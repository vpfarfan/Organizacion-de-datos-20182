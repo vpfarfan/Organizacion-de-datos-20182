{
 "cells": [
  {
   "cell_type": "markdown",
   "metadata": {},
   "source": [
    "## UNIVERSIDAD DE BUENOS AIRES - FACULTAD DE INGENIERÍA\n",
    "\n",
    "**75.06/95.58 Organización de Datos\n",
    "Segundo Cuatrimestre de 2018\n",
    "Trabajo Práctico 1: Web analytics de www.trocafone.com**\n",
    "\n",
    "Grupo 42:\n",
    "Miranda, Pablo\n",
    "Marinier, Sebastián\n",
    "Farfán, Verónica\n",
    "Basconcelo, Eliana"
   ]
  },
  {
   "cell_type": "markdown",
   "metadata": {},
   "source": [
    "### *Carga de Librerias, set de datos y establecimiento de gráficos*"
   ]
  },
  {
   "cell_type": "code",
   "execution_count": 1,
   "metadata": {
    "collapsed": true
   },
   "outputs": [],
   "source": [
    "# Import libraries\n",
    "import os\n",
    "import pandas as pd\n",
    "import numpy as np\n",
    "import matplotlib.pyplot as plt\n",
    "import seaborn as sns\n",
    "import datetime as dt\n",
    "from datetime import timedelta\n",
    "\n",
    "%matplotlib inline\n",
    "\n",
    "plt.style.use('default') # haciendo los graficos un poco mas bonitos en matplotlib\n",
    "#plt.rcParams['figure.figsize'] = (20, 10)\n",
    "\n",
    "sns.set(style=\"whitegrid\") # seteando tipo de grid en seaborn"
   ]
  },
  {
   "cell_type": "code",
   "execution_count": 2,
   "metadata": {},
   "outputs": [
    {
     "name": "stderr",
     "output_type": "stream",
     "text": [
      "C:\\Users\\vfarfan\\AppData\\Local\\Continuum\\anaconda3\\lib\\site-packages\\IPython\\core\\interactiveshell.py:2698: DtypeWarning: Columns (3,5,6,7,8,9,10,11,12,13,14,15,16,17,18,19,20,21,22) have mixed types. Specify dtype option on import or set low_memory=False.\n",
      "  interactivity=interactivity, compiler=compiler, result=result)\n"
     ]
    }
   ],
   "source": [
    "# Change working directory\n",
    "os.chdir('C:/Users/vfarfan/OD')\n",
    "# Load the data\n",
    "df = pd.read_csv(\"data/events_up_to_01062018.csv\", dtype={'sku' : 'object'}) # sku como object para poder eliminar el .0 en los str"
   ]
  },
  {
   "cell_type": "code",
   "execution_count": 3,
   "metadata": {},
   "outputs": [
    {
     "name": "stdout",
     "output_type": "stream",
     "text": [
      "['timestamp' 'event' 'person' 'url' 'sku' 'model' 'condition' 'storage'\n",
      " 'color' 'skus' 'search_term' 'staticpage' 'campaign_source'\n",
      " 'search_engine' 'channel' 'new_vs_returning' 'city' 'region' 'country'\n",
      " 'device_type' 'screen_resolution' 'operating_system_version'\n",
      " 'browser_version']\n"
     ]
    }
   ],
   "source": [
    "print(df.columns.values)"
   ]
  },
  {
   "cell_type": "code",
   "execution_count": 4,
   "metadata": {},
   "outputs": [
    {
     "data": {
      "text/html": [
       "<div>\n",
       "<style>\n",
       "    .dataframe thead tr:only-child th {\n",
       "        text-align: right;\n",
       "    }\n",
       "\n",
       "    .dataframe thead th {\n",
       "        text-align: left;\n",
       "    }\n",
       "\n",
       "    .dataframe tbody tr th {\n",
       "        vertical-align: top;\n",
       "    }\n",
       "</style>\n",
       "<table border=\"1\" class=\"dataframe\">\n",
       "  <thead>\n",
       "    <tr style=\"text-align: right;\">\n",
       "      <th></th>\n",
       "      <th>timestamp</th>\n",
       "      <th>event</th>\n",
       "      <th>person</th>\n",
       "      <th>url</th>\n",
       "      <th>sku</th>\n",
       "      <th>model</th>\n",
       "      <th>condition</th>\n",
       "      <th>storage</th>\n",
       "      <th>color</th>\n",
       "      <th>skus</th>\n",
       "      <th>...</th>\n",
       "      <th>search_engine</th>\n",
       "      <th>channel</th>\n",
       "      <th>new_vs_returning</th>\n",
       "      <th>city</th>\n",
       "      <th>region</th>\n",
       "      <th>country</th>\n",
       "      <th>device_type</th>\n",
       "      <th>screen_resolution</th>\n",
       "      <th>operating_system_version</th>\n",
       "      <th>browser_version</th>\n",
       "    </tr>\n",
       "  </thead>\n",
       "  <tbody>\n",
       "    <tr>\n",
       "      <th>count</th>\n",
       "      <td>2341681</td>\n",
       "      <td>2341681</td>\n",
       "      <td>2341681</td>\n",
       "      <td>191131</td>\n",
       "      <td>1320530</td>\n",
       "      <td>1321513</td>\n",
       "      <td>1320530</td>\n",
       "      <td>1320530</td>\n",
       "      <td>1320530</td>\n",
       "      <td>505949</td>\n",
       "      <td>...</td>\n",
       "      <td>106406</td>\n",
       "      <td>204069</td>\n",
       "      <td>204069</td>\n",
       "      <td>204069</td>\n",
       "      <td>204069</td>\n",
       "      <td>204069</td>\n",
       "      <td>204069</td>\n",
       "      <td>204066</td>\n",
       "      <td>204069</td>\n",
       "      <td>204069</td>\n",
       "    </tr>\n",
       "    <tr>\n",
       "      <th>unique</th>\n",
       "      <td>1490912</td>\n",
       "      <td>11</td>\n",
       "      <td>38829</td>\n",
       "      <td>248</td>\n",
       "      <td>3693</td>\n",
       "      <td>208</td>\n",
       "      <td>5</td>\n",
       "      <td>8</td>\n",
       "      <td>63</td>\n",
       "      <td>52267</td>\n",
       "      <td>...</td>\n",
       "      <td>4</td>\n",
       "      <td>7</td>\n",
       "      <td>2</td>\n",
       "      <td>2206</td>\n",
       "      <td>122</td>\n",
       "      <td>51</td>\n",
       "      <td>4</td>\n",
       "      <td>393</td>\n",
       "      <td>131</td>\n",
       "      <td>366</td>\n",
       "    </tr>\n",
       "    <tr>\n",
       "      <th>top</th>\n",
       "      <td>2018-05-31 01:59:16</td>\n",
       "      <td>viewed product</td>\n",
       "      <td>c76b8417</td>\n",
       "      <td>/</td>\n",
       "      <td>2830.0</td>\n",
       "      <td>iPhone 6</td>\n",
       "      <td>Bom</td>\n",
       "      <td>16GB</td>\n",
       "      <td>Preto</td>\n",
       "      <td>2820,6706,6720,2750,6649,7251,6663,12604,7224,...</td>\n",
       "      <td>...</td>\n",
       "      <td>Google</td>\n",
       "      <td>Paid</td>\n",
       "      <td>Returning</td>\n",
       "      <td>Unknown</td>\n",
       "      <td>Sao Paulo</td>\n",
       "      <td>Brazil</td>\n",
       "      <td>Smartphone</td>\n",
       "      <td>360x640</td>\n",
       "      <td>Windows 7</td>\n",
       "      <td>Chrome 66.0</td>\n",
       "    </tr>\n",
       "    <tr>\n",
       "      <th>freq</th>\n",
       "      <td>14</td>\n",
       "      <td>1248124</td>\n",
       "      <td>4438</td>\n",
       "      <td>64187</td>\n",
       "      <td>8462</td>\n",
       "      <td>107262</td>\n",
       "      <td>547617</td>\n",
       "      <td>442096</td>\n",
       "      <td>314925</td>\n",
       "      <td>2606</td>\n",
       "      <td>...</td>\n",
       "      <td>105195</td>\n",
       "      <td>91753</td>\n",
       "      <td>165827</td>\n",
       "      <td>36866</td>\n",
       "      <td>57304</td>\n",
       "      <td>197699</td>\n",
       "      <td>103502</td>\n",
       "      <td>73234</td>\n",
       "      <td>46648</td>\n",
       "      <td>57953</td>\n",
       "    </tr>\n",
       "  </tbody>\n",
       "</table>\n",
       "<p>4 rows × 23 columns</p>\n",
       "</div>"
      ],
      "text/plain": [
       "                  timestamp           event    person     url      sku  \\\n",
       "count               2341681         2341681   2341681  191131  1320530   \n",
       "unique              1490912              11     38829     248     3693   \n",
       "top     2018-05-31 01:59:16  viewed product  c76b8417       /   2830.0   \n",
       "freq                     14         1248124      4438   64187     8462   \n",
       "\n",
       "           model condition  storage    color  \\\n",
       "count    1321513   1320530  1320530  1320530   \n",
       "unique       208         5        8       63   \n",
       "top     iPhone 6       Bom     16GB    Preto   \n",
       "freq      107262    547617   442096   314925   \n",
       "\n",
       "                                                     skus       ...        \\\n",
       "count                                              505949       ...         \n",
       "unique                                              52267       ...         \n",
       "top     2820,6706,6720,2750,6649,7251,6663,12604,7224,...       ...         \n",
       "freq                                                 2606       ...         \n",
       "\n",
       "       search_engine channel new_vs_returning     city     region country  \\\n",
       "count         106406  204069           204069   204069     204069  204069   \n",
       "unique             4       7                2     2206        122      51   \n",
       "top           Google    Paid        Returning  Unknown  Sao Paulo  Brazil   \n",
       "freq          105195   91753           165827    36866      57304  197699   \n",
       "\n",
       "       device_type screen_resolution operating_system_version browser_version  \n",
       "count       204069            204066                   204069          204069  \n",
       "unique           4               393                      131             366  \n",
       "top     Smartphone           360x640               Windows 7      Chrome 66.0  \n",
       "freq        103502             73234                    46648           57953  \n",
       "\n",
       "[4 rows x 23 columns]"
      ]
     },
     "execution_count": 4,
     "metadata": {},
     "output_type": "execute_result"
    }
   ],
   "source": [
    "df.describe()"
   ]
  },
  {
   "cell_type": "markdown",
   "metadata": {},
   "source": [
    "### Eventos posibles para los usuarios"
   ]
  },
  {
   "cell_type": "code",
   "execution_count": 5,
   "metadata": {},
   "outputs": [
    {
     "name": "stdout",
     "output_type": "stream",
     "text": [
      "viewed product       1248124\n",
      "brand listing         216312\n",
      "visited site          204069\n",
      "ad campaign hit       191388\n",
      "generic listing       160176\n",
      "searched products     130616\n",
      "search engine hit     106406\n",
      "checkout               65315\n",
      "staticpage             11201\n",
      "conversion              7091\n",
      "lead                     983\n",
      "Name: event, dtype: int64\n"
     ]
    }
   ],
   "source": [
    "print(df['event'].value_counts())"
   ]
  },
  {
   "cell_type": "markdown",
   "metadata": {},
   "source": [
    "## 2. Preprocesamiento y descripción de Datos\n",
    "\n",
    "### Preprocesamiento de Datos"
   ]
  },
  {
   "cell_type": "markdown",
   "metadata": {},
   "source": [
    "#### Procesar el campo SKU para eliminar el .0\n",
    "Algunos SKUs están cargados con un .0 como si fueran decimales.  Los levantamos como string y eliminamos el .0 para normalizar el dato."
   ]
  },
  {
   "cell_type": "code",
   "execution_count": 6,
   "metadata": {},
   "outputs": [
    {
     "name": "stdout",
     "output_type": "stream",
     "text": [
      "['searched products' 'ad campaign hit' 'staticpage' 'search engine hit'\n",
      " 'generic listing' 'brand listing' 'visited site' 'lead']\n",
      "['viewed product' 'checkout' 'conversion']\n"
     ]
    }
   ],
   "source": [
    "print(df.loc[df['sku'].isnull(),'event'].unique())\n",
    "print(df.loc[df['sku'].notnull(),'event'].unique())"
   ]
  },
  {
   "cell_type": "code",
   "execution_count": 7,
   "metadata": {
    "collapsed": true
   },
   "outputs": [],
   "source": [
    "df.loc[df['sku'].apply(type) == str,'sku'] = df.loc[df['sku'].apply(type) == str,'sku'].str.replace('\\.0', '')"
   ]
  },
  {
   "cell_type": "markdown",
   "metadata": {},
   "source": [
    "#### Procesar el campo SKU para eliminar valores undefined"
   ]
  },
  {
   "cell_type": "code",
   "execution_count": 8,
   "metadata": {},
   "outputs": [
    {
     "name": "stdout",
     "output_type": "stream",
     "text": [
      "Series([], Name: person, dtype: object)\n"
     ]
    },
    {
     "data": {
      "text/html": [
       "<div>\n",
       "<style>\n",
       "    .dataframe thead tr:only-child th {\n",
       "        text-align: right;\n",
       "    }\n",
       "\n",
       "    .dataframe thead th {\n",
       "        text-align: left;\n",
       "    }\n",
       "\n",
       "    .dataframe tbody tr th {\n",
       "        vertical-align: top;\n",
       "    }\n",
       "</style>\n",
       "<table border=\"1\" class=\"dataframe\">\n",
       "  <thead>\n",
       "    <tr style=\"text-align: right;\">\n",
       "      <th></th>\n",
       "      <th>timestamp</th>\n",
       "      <th>event</th>\n",
       "      <th>person</th>\n",
       "      <th>url</th>\n",
       "      <th>sku</th>\n",
       "      <th>model</th>\n",
       "      <th>condition</th>\n",
       "      <th>storage</th>\n",
       "      <th>color</th>\n",
       "      <th>skus</th>\n",
       "      <th>...</th>\n",
       "      <th>search_engine</th>\n",
       "      <th>channel</th>\n",
       "      <th>new_vs_returning</th>\n",
       "      <th>city</th>\n",
       "      <th>region</th>\n",
       "      <th>country</th>\n",
       "      <th>device_type</th>\n",
       "      <th>screen_resolution</th>\n",
       "      <th>operating_system_version</th>\n",
       "      <th>browser_version</th>\n",
       "    </tr>\n",
       "  </thead>\n",
       "  <tbody>\n",
       "  </tbody>\n",
       "</table>\n",
       "<p>0 rows × 23 columns</p>\n",
       "</div>"
      ],
      "text/plain": [
       "Empty DataFrame\n",
       "Columns: [timestamp, event, person, url, sku, model, condition, storage, color, skus, search_term, staticpage, campaign_source, search_engine, channel, new_vs_returning, city, region, country, device_type, screen_resolution, operating_system_version, browser_version]\n",
       "Index: []\n",
       "\n",
       "[0 rows x 23 columns]"
      ]
     },
     "execution_count": 8,
     "metadata": {},
     "output_type": "execute_result"
    }
   ],
   "source": [
    "print(df.loc[df['sku'] == 'undefined',:]['person'])\n",
    "df.loc[df['person'] == '602b3649','sku'].apply(type)\n",
    "df.loc[df['person'] == '655402b0',:]"
   ]
  },
  {
   "cell_type": "markdown",
   "metadata": {},
   "source": [
    "Existen dos eventos checkout con sku=\"undefined\". Son nuevos usuarios, visitaron el sitio e hicieron checkout sin elegir producto. Elegimos eliminar la sesión del usuario que contenga estos registros 'undefined'."
   ]
  },
  {
   "cell_type": "code",
   "execution_count": 9,
   "metadata": {
    "collapsed": true
   },
   "outputs": [],
   "source": [
    "# Elimino SKUs \"undefined\"\n",
    "df = df.loc[df['sku'] != 'undefined',:]"
   ]
  },
  {
   "cell_type": "markdown",
   "metadata": {},
   "source": [
    "#### Convertir datos categóricos"
   ]
  },
  {
   "cell_type": "code",
   "execution_count": 10,
   "metadata": {
    "collapsed": true
   },
   "outputs": [],
   "source": [
    "# Convert data types\n",
    "df['timestamp'] = pd.to_datetime(df['timestamp'])\n",
    "df['event'] = pd.Categorical(df['event'])\n",
    "#df['person']\n",
    "df['url'] = pd.Categorical(df['url'])\n",
    "df['sku'] = pd.Categorical(df['sku'])\n",
    "df['model'] = pd.Categorical(df['model'])\n",
    "df['condition'] = pd.Categorical(df['condition'])\n",
    "df['storage'] = pd.Categorical(df['storage'])\n",
    "df['color'] = pd.Categorical(df['color'])\n",
    "#df['skus'] = pd.Categorical(df['skus'])\n",
    "#df['search_term']\n",
    "df['staticpage'] = pd.Categorical(df['staticpage'])\n",
    "df['campaign_source'] = pd.Categorical(df['campaign_source'])\n",
    "df['search_engine'] = pd.Categorical(df['search_engine'])\n",
    "df['channel'] = pd.Categorical(df['channel'])\n",
    "df['new_vs_returning'] = pd.Categorical(df['new_vs_returning'])\n",
    "df['city'] = pd.Categorical(df['city'])\n",
    "df['region'] = pd.Categorical(df['region'])\n",
    "df['country'] = pd.Categorical(df['country'])\n",
    "df['device_type'] = pd.Categorical(df['device_type'])\n",
    "df['screen_resolution'] = pd.Categorical(df['screen_resolution'])\n",
    "df['operating_system_version'] = pd.Categorical(df['operating_system_version'])\n",
    "df['browser_version'] = pd.Categorical(df['browser_version'])\n"
   ]
  },
  {
   "cell_type": "markdown",
   "metadata": {},
   "source": [
    "#### Agregar columnas para día y mes"
   ]
  },
  {
   "cell_type": "code",
   "execution_count": 11,
   "metadata": {
    "collapsed": true
   },
   "outputs": [],
   "source": [
    "df['day'] = df['timestamp'].dt.to_period('D').dt.to_timestamp()\n",
    "df['month'] = df['timestamp'].dt.to_period('M').dt.to_timestamp()"
   ]
  },
  {
   "cell_type": "markdown",
   "metadata": {},
   "source": [
    "#### Agregar columna con la Marca extraída del campo model\n",
    "La primer palabra en este campo corresponde a la marca del producto."
   ]
  },
  {
   "cell_type": "code",
   "execution_count": 12,
   "metadata": {
    "collapsed": true
   },
   "outputs": [],
   "source": [
    "df['brand'] = pd.Categorical(df['model'].str.split(' ').str.get(0))"
   ]
  },
  {
   "cell_type": "markdown",
   "metadata": {},
   "source": [
    "#### Eliminar registros que no correspondan a Brasil\n",
    "Nos quedamos sólo con datos de Brasil únicamente por ser representativos del total de datos.  De esta forma, todos los usuarios que analizamos tendrán un visited site y además excluimos los usuarios que sólo tienen un evento checkout."
   ]
  },
  {
   "cell_type": "markdown",
   "metadata": {},
   "source": [
    "## Existen en los archivos de test y train usuarios que no son de Brasil, por lo que no deberíamos eliminarlos¿?"
   ]
  },
  {
   "cell_type": "code",
   "execution_count": 13,
   "metadata": {},
   "outputs": [
    {
     "data": {
      "image/png": "[encoded data removed]",
      "text/plain": [
       "<matplotlib.figure.Figure at 0x1cff416ca90>"
      ]
     },
     "metadata": {},
     "output_type": "display_data"
    }
   ],
   "source": [
    "df['country'].value_counts(normalize=True, ascending=True)[-10:].plot.barh()\n",
    "plt.ylabel('País')\n",
    "plt.xlabel('% del total de eventos')\n",
    "plt.title('Porcentaje de eventos por país del total de la muestra (Top 10)')\n",
    "plt.show()"
   ]
  },
  {
   "cell_type": "code",
   "execution_count": 14,
   "metadata": {
    "collapsed": true
   },
   "outputs": [],
   "source": [
    "# Filtramos para quedarnos sólo con los usuarios de Brasil\n",
    "#df = pd.DataFrame({'person':df.loc[df['country']=='Brazil',('person')].unique()}).merge(df, how='inner')"
   ]
  },
  {
   "cell_type": "code",
   "execution_count": 15,
   "metadata": {
    "collapsed": true
   },
   "outputs": [],
   "source": [
    "#print(df.loc[df['event']=='ad campaign hit',:]['url'].value_counts())\n",
    "#print(pd.Categorical(df['url'].str.split('/').str.get(1)).value_counts())\n",
    "df['url_brand'] = pd.Categorical(df['url'].str.split('/').str.get(2))\n",
    "df['os'] = pd.Categorical(df['operating_system_version'].str.split(' ').str.get(0))\n",
    "df['browser'] = pd.Categorical(df['browser_version'].str.split(' ').str.get(0))"
   ]
  },
  {
   "cell_type": "markdown",
   "metadata": {},
   "source": [
    "#### Descripción del nuevo dataset"
   ]
  },
  {
   "cell_type": "code",
   "execution_count": 16,
   "metadata": {},
   "outputs": [
    {
     "data": {
      "text/html": [
       "<div>\n",
       "<style>\n",
       "    .dataframe thead tr:only-child th {\n",
       "        text-align: right;\n",
       "    }\n",
       "\n",
       "    .dataframe thead th {\n",
       "        text-align: left;\n",
       "    }\n",
       "\n",
       "    .dataframe tbody tr th {\n",
       "        vertical-align: top;\n",
       "    }\n",
       "</style>\n",
       "<table border=\"1\" class=\"dataframe\">\n",
       "  <thead>\n",
       "    <tr style=\"text-align: right;\">\n",
       "      <th></th>\n",
       "      <th>timestamp</th>\n",
       "      <th>event</th>\n",
       "      <th>person</th>\n",
       "      <th>url</th>\n",
       "      <th>sku</th>\n",
       "      <th>model</th>\n",
       "      <th>condition</th>\n",
       "      <th>storage</th>\n",
       "      <th>color</th>\n",
       "      <th>skus</th>\n",
       "      <th>...</th>\n",
       "      <th>device_type</th>\n",
       "      <th>screen_resolution</th>\n",
       "      <th>operating_system_version</th>\n",
       "      <th>browser_version</th>\n",
       "      <th>day</th>\n",
       "      <th>month</th>\n",
       "      <th>brand</th>\n",
       "      <th>url_brand</th>\n",
       "      <th>os</th>\n",
       "      <th>browser</th>\n",
       "    </tr>\n",
       "  </thead>\n",
       "  <tbody>\n",
       "    <tr>\n",
       "      <th>count</th>\n",
       "      <td>2341681</td>\n",
       "      <td>2341681</td>\n",
       "      <td>2341681</td>\n",
       "      <td>191131</td>\n",
       "      <td>1320530</td>\n",
       "      <td>1321513</td>\n",
       "      <td>1320530</td>\n",
       "      <td>1320530</td>\n",
       "      <td>1320530</td>\n",
       "      <td>505949</td>\n",
       "      <td>...</td>\n",
       "      <td>204069</td>\n",
       "      <td>204066</td>\n",
       "      <td>204069</td>\n",
       "      <td>204069</td>\n",
       "      <td>2341681</td>\n",
       "      <td>2341681</td>\n",
       "      <td>1321513</td>\n",
       "      <td>126934</td>\n",
       "      <td>204069</td>\n",
       "      <td>204069</td>\n",
       "    </tr>\n",
       "    <tr>\n",
       "      <th>unique</th>\n",
       "      <td>1490912</td>\n",
       "      <td>11</td>\n",
       "      <td>38829</td>\n",
       "      <td>248</td>\n",
       "      <td>2328</td>\n",
       "      <td>208</td>\n",
       "      <td>5</td>\n",
       "      <td>8</td>\n",
       "      <td>63</td>\n",
       "      <td>52267</td>\n",
       "      <td>...</td>\n",
       "      <td>4</td>\n",
       "      <td>393</td>\n",
       "      <td>131</td>\n",
       "      <td>366</td>\n",
       "      <td>151</td>\n",
       "      <td>5</td>\n",
       "      <td>11</td>\n",
       "      <td>14</td>\n",
       "      <td>13</td>\n",
       "      <td>22</td>\n",
       "    </tr>\n",
       "    <tr>\n",
       "      <th>top</th>\n",
       "      <td>2018-05-31 01:59:16</td>\n",
       "      <td>viewed product</td>\n",
       "      <td>c76b8417</td>\n",
       "      <td>/</td>\n",
       "      <td>2830</td>\n",
       "      <td>iPhone 6</td>\n",
       "      <td>Bom</td>\n",
       "      <td>16GB</td>\n",
       "      <td>Preto</td>\n",
       "      <td>2820,6706,6720,2750,6649,7251,6663,12604,7224,...</td>\n",
       "      <td>...</td>\n",
       "      <td>Smartphone</td>\n",
       "      <td>360x640</td>\n",
       "      <td>Windows 7</td>\n",
       "      <td>Chrome 66.0</td>\n",
       "      <td>2018-05-29 00:00:00</td>\n",
       "      <td>2018-05-01 00:00:00</td>\n",
       "      <td>iPhone</td>\n",
       "      <td>samsung</td>\n",
       "      <td>Android</td>\n",
       "      <td>Chrome</td>\n",
       "    </tr>\n",
       "    <tr>\n",
       "      <th>freq</th>\n",
       "      <td>14</td>\n",
       "      <td>1248124</td>\n",
       "      <td>4438</td>\n",
       "      <td>64187</td>\n",
       "      <td>8601</td>\n",
       "      <td>107262</td>\n",
       "      <td>547617</td>\n",
       "      <td>442096</td>\n",
       "      <td>314925</td>\n",
       "      <td>2606</td>\n",
       "      <td>...</td>\n",
       "      <td>103502</td>\n",
       "      <td>73234</td>\n",
       "      <td>46648</td>\n",
       "      <td>57953</td>\n",
       "      <td>109435</td>\n",
       "      <td>1713920</td>\n",
       "      <td>593603</td>\n",
       "      <td>63029</td>\n",
       "      <td>96901</td>\n",
       "      <td>173833</td>\n",
       "    </tr>\n",
       "    <tr>\n",
       "      <th>first</th>\n",
       "      <td>2018-01-01 08:09:31</td>\n",
       "      <td>NaN</td>\n",
       "      <td>NaN</td>\n",
       "      <td>NaN</td>\n",
       "      <td>NaN</td>\n",
       "      <td>NaN</td>\n",
       "      <td>NaN</td>\n",
       "      <td>NaN</td>\n",
       "      <td>NaN</td>\n",
       "      <td>NaN</td>\n",
       "      <td>...</td>\n",
       "      <td>NaN</td>\n",
       "      <td>NaN</td>\n",
       "      <td>NaN</td>\n",
       "      <td>NaN</td>\n",
       "      <td>2018-01-01 00:00:00</td>\n",
       "      <td>2018-01-01 00:00:00</td>\n",
       "      <td>NaN</td>\n",
       "      <td>NaN</td>\n",
       "      <td>NaN</td>\n",
       "      <td>NaN</td>\n",
       "    </tr>\n",
       "    <tr>\n",
       "      <th>last</th>\n",
       "      <td>2018-05-31 23:59:59</td>\n",
       "      <td>NaN</td>\n",
       "      <td>NaN</td>\n",
       "      <td>NaN</td>\n",
       "      <td>NaN</td>\n",
       "      <td>NaN</td>\n",
       "      <td>NaN</td>\n",
       "      <td>NaN</td>\n",
       "      <td>NaN</td>\n",
       "      <td>NaN</td>\n",
       "      <td>...</td>\n",
       "      <td>NaN</td>\n",
       "      <td>NaN</td>\n",
       "      <td>NaN</td>\n",
       "      <td>NaN</td>\n",
       "      <td>2018-05-31 00:00:00</td>\n",
       "      <td>2018-05-01 00:00:00</td>\n",
       "      <td>NaN</td>\n",
       "      <td>NaN</td>\n",
       "      <td>NaN</td>\n",
       "      <td>NaN</td>\n",
       "    </tr>\n",
       "  </tbody>\n",
       "</table>\n",
       "<p>6 rows × 29 columns</p>\n",
       "</div>"
      ],
      "text/plain": [
       "                  timestamp           event    person     url      sku  \\\n",
       "count               2341681         2341681   2341681  191131  1320530   \n",
       "unique              1490912              11     38829     248     2328   \n",
       "top     2018-05-31 01:59:16  viewed product  c76b8417       /     2830   \n",
       "freq                     14         1248124      4438   64187     8601   \n",
       "first   2018-01-01 08:09:31             NaN       NaN     NaN      NaN   \n",
       "last    2018-05-31 23:59:59             NaN       NaN     NaN      NaN   \n",
       "\n",
       "           model condition  storage    color  \\\n",
       "count    1321513   1320530  1320530  1320530   \n",
       "unique       208         5        8       63   \n",
       "top     iPhone 6       Bom     16GB    Preto   \n",
       "freq      107262    547617   442096   314925   \n",
       "first        NaN       NaN      NaN      NaN   \n",
       "last         NaN       NaN      NaN      NaN   \n",
       "\n",
       "                                                     skus   ...   device_type  \\\n",
       "count                                              505949   ...        204069   \n",
       "unique                                              52267   ...             4   \n",
       "top     2820,6706,6720,2750,6649,7251,6663,12604,7224,...   ...    Smartphone   \n",
       "freq                                                 2606   ...        103502   \n",
       "first                                                 NaN   ...           NaN   \n",
       "last                                                  NaN   ...           NaN   \n",
       "\n",
       "       screen_resolution operating_system_version browser_version  \\\n",
       "count             204066                   204069          204069   \n",
       "unique               393                      131             366   \n",
       "top              360x640               Windows 7      Chrome 66.0   \n",
       "freq               73234                    46648           57953   \n",
       "first                NaN                      NaN             NaN   \n",
       "last                 NaN                      NaN             NaN   \n",
       "\n",
       "                        day                month    brand url_brand       os  \\\n",
       "count               2341681              2341681  1321513    126934   204069   \n",
       "unique                  151                    5       11        14       13   \n",
       "top     2018-05-29 00:00:00  2018-05-01 00:00:00   iPhone   samsung  Android   \n",
       "freq                 109435              1713920   593603     63029    96901   \n",
       "first   2018-01-01 00:00:00  2018-01-01 00:00:00      NaN       NaN      NaN   \n",
       "last    2018-05-31 00:00:00  2018-05-01 00:00:00      NaN       NaN      NaN   \n",
       "\n",
       "       browser  \n",
       "count   204069  \n",
       "unique      22  \n",
       "top     Chrome  \n",
       "freq    173833  \n",
       "first      NaN  \n",
       "last       NaN  \n",
       "\n",
       "[6 rows x 29 columns]"
      ]
     },
     "execution_count": 16,
     "metadata": {},
     "output_type": "execute_result"
    }
   ],
   "source": [
    "df.describe()"
   ]
  },
  {
   "cell_type": "markdown",
   "metadata": {},
   "source": [
    "#### Período de tiempo en el cual se realiza el análisis"
   ]
  },
  {
   "cell_type": "code",
   "execution_count": 17,
   "metadata": {},
   "outputs": [
    {
     "name": "stdout",
     "output_type": "stream",
     "text": [
      "2018-01-01 08:09:31\n",
      "2018-05-31 23:59:59\n"
     ]
    }
   ],
   "source": [
    "print(min(df['timestamp']))\n",
    "print(max(df['timestamp']))"
   ]
  },
  {
   "cell_type": "markdown",
   "metadata": {},
   "source": [
    "## 3. Análisis de Datos\n",
    "\n",
    "### 3.1 Clientes"
   ]
  },
  {
   "cell_type": "code",
   "execution_count": 18,
   "metadata": {},
   "outputs": [
    {
     "name": "stdout",
     "output_type": "stream",
     "text": [
      "Clientes\n",
      "38829\n"
     ]
    }
   ],
   "source": [
    "print(\"Clientes\")\n",
    "print(df['person'].nunique())"
   ]
  },
  {
   "cell_type": "markdown",
   "metadata": {
    "collapsed": true
   },
   "source": [
    "#### Distinción de sesiones por usuario\n",
    "Cada sesión agrupa los eventos separados entre sí no más de 30 minutos."
   ]
  },
  {
   "cell_type": "code",
   "execution_count": 19,
   "metadata": {
    "collapsed": true
   },
   "outputs": [],
   "source": [
    "# Definimos un límite de tiempo entre eventos\n",
    "T = timedelta(seconds=30*60)\n",
    "# Ordenamos el dataset por timestamp\n",
    "df = df.sort_values(by=['timestamp'])\n",
    "# Agregamos una columna con el timestamp anterior\n",
    "df['last_timestamp'] = df.groupby(['person'])['timestamp'].shift()\n",
    "# Crear flag de nueva sesión\n",
    "df['new_session'] = (((df['timestamp']\n",
    "                            - df['last_timestamp'])>=T) | (df['last_timestamp'].isnull())).astype(int)\n",
    "df['inc'] = df.groupby('person')['new_session'].cumsum()\n",
    "# Creamos el id de sesión\n",
    "df['session_id'] = df['person'].astype(str) + '_' + df['inc'].astype(str)\n",
    "df = df.drop('inc', axis=1)"
   ]
  },
  {
   "cell_type": "markdown",
   "metadata": {},
   "source": [
    "Agrupamos la cantidad de eventos de cada tipo por sesión"
   ]
  },
  {
   "cell_type": "code",
   "execution_count": 20,
   "metadata": {},
   "outputs": [
    {
     "data": {
      "text/html": [
       "<div>\n",
       "<style>\n",
       "    .dataframe thead tr:only-child th {\n",
       "        text-align: right;\n",
       "    }\n",
       "\n",
       "    .dataframe thead th {\n",
       "        text-align: left;\n",
       "    }\n",
       "\n",
       "    .dataframe tbody tr th {\n",
       "        vertical-align: top;\n",
       "    }\n",
       "</style>\n",
       "<table border=\"1\" class=\"dataframe\">\n",
       "  <thead>\n",
       "    <tr style=\"text-align: right;\">\n",
       "      <th>event</th>\n",
       "      <th>session_id</th>\n",
       "      <th>ad campaign hit</th>\n",
       "      <th>brand listing</th>\n",
       "      <th>checkout</th>\n",
       "      <th>conversion</th>\n",
       "      <th>generic listing</th>\n",
       "      <th>lead</th>\n",
       "      <th>search engine hit</th>\n",
       "      <th>searched products</th>\n",
       "      <th>staticpage</th>\n",
       "      <th>viewed product</th>\n",
       "      <th>visited site</th>\n",
       "    </tr>\n",
       "  </thead>\n",
       "  <tbody>\n",
       "    <tr>\n",
       "      <th>0</th>\n",
       "      <td>0008ed71_1</td>\n",
       "      <td>NaN</td>\n",
       "      <td>NaN</td>\n",
       "      <td>1.0</td>\n",
       "      <td>NaN</td>\n",
       "      <td>NaN</td>\n",
       "      <td>NaN</td>\n",
       "      <td>NaN</td>\n",
       "      <td>NaN</td>\n",
       "      <td>NaN</td>\n",
       "      <td>NaN</td>\n",
       "      <td>NaN</td>\n",
       "    </tr>\n",
       "    <tr>\n",
       "      <th>1</th>\n",
       "      <td>0008ed71_2</td>\n",
       "      <td>NaN</td>\n",
       "      <td>NaN</td>\n",
       "      <td>1.0</td>\n",
       "      <td>NaN</td>\n",
       "      <td>NaN</td>\n",
       "      <td>NaN</td>\n",
       "      <td>NaN</td>\n",
       "      <td>NaN</td>\n",
       "      <td>NaN</td>\n",
       "      <td>NaN</td>\n",
       "      <td>1.0</td>\n",
       "    </tr>\n",
       "    <tr>\n",
       "      <th>2</th>\n",
       "      <td>0008ed71_3</td>\n",
       "      <td>NaN</td>\n",
       "      <td>NaN</td>\n",
       "      <td>1.0</td>\n",
       "      <td>NaN</td>\n",
       "      <td>1.0</td>\n",
       "      <td>NaN</td>\n",
       "      <td>NaN</td>\n",
       "      <td>NaN</td>\n",
       "      <td>NaN</td>\n",
       "      <td>NaN</td>\n",
       "      <td>1.0</td>\n",
       "    </tr>\n",
       "    <tr>\n",
       "      <th>3</th>\n",
       "      <td>00091926_1</td>\n",
       "      <td>NaN</td>\n",
       "      <td>NaN</td>\n",
       "      <td>NaN</td>\n",
       "      <td>NaN</td>\n",
       "      <td>NaN</td>\n",
       "      <td>NaN</td>\n",
       "      <td>NaN</td>\n",
       "      <td>NaN</td>\n",
       "      <td>NaN</td>\n",
       "      <td>6.0</td>\n",
       "      <td>1.0</td>\n",
       "    </tr>\n",
       "    <tr>\n",
       "      <th>4</th>\n",
       "      <td>00091926_10</td>\n",
       "      <td>1.0</td>\n",
       "      <td>NaN</td>\n",
       "      <td>NaN</td>\n",
       "      <td>NaN</td>\n",
       "      <td>NaN</td>\n",
       "      <td>NaN</td>\n",
       "      <td>NaN</td>\n",
       "      <td>NaN</td>\n",
       "      <td>NaN</td>\n",
       "      <td>2.0</td>\n",
       "      <td>1.0</td>\n",
       "    </tr>\n",
       "  </tbody>\n",
       "</table>\n",
       "</div>"
      ],
      "text/plain": [
       "event   session_id  ad campaign hit  brand listing  checkout  conversion  \\\n",
       "0       0008ed71_1              NaN            NaN       1.0         NaN   \n",
       "1       0008ed71_2              NaN            NaN       1.0         NaN   \n",
       "2       0008ed71_3              NaN            NaN       1.0         NaN   \n",
       "3       00091926_1              NaN            NaN       NaN         NaN   \n",
       "4      00091926_10              1.0            NaN       NaN         NaN   \n",
       "\n",
       "event  generic listing  lead  search engine hit  searched products  \\\n",
       "0                  NaN   NaN                NaN                NaN   \n",
       "1                  NaN   NaN                NaN                NaN   \n",
       "2                  1.0   NaN                NaN                NaN   \n",
       "3                  NaN   NaN                NaN                NaN   \n",
       "4                  NaN   NaN                NaN                NaN   \n",
       "\n",
       "event  staticpage  viewed product  visited site  \n",
       "0             NaN             NaN           NaN  \n",
       "1             NaN             NaN           1.0  \n",
       "2             NaN             NaN           1.0  \n",
       "3             NaN             6.0           1.0  \n",
       "4             NaN             2.0           1.0  "
      ]
     },
     "execution_count": 20,
     "metadata": {},
     "output_type": "execute_result"
    }
   ],
   "source": [
    "dfsesion = df.loc[:,('session_id','event','timestamp')].pivot_table(index='session_id', columns='event', values='timestamp', aggfunc='count')\n",
    "dfsesion.columns = dfsesion.columns.astype('object')\n",
    "dfsesion = dfsesion.reset_index()\n",
    "dfsesion.head()"
   ]
  },
  {
   "cell_type": "markdown",
   "metadata": {},
   "source": [
    "Agregamos al dataframe las características de cada sesión\n",
    "- eventos por sesión\n",
    "- comienzo y fin de la sesión\n",
    "- tiempo total\n",
    "- tiempo en la última transacción?"
   ]
  },
  {
   "cell_type": "code",
   "execution_count": 21,
   "metadata": {},
   "outputs": [
    {
     "data": {
      "text/html": [
       "<div>\n",
       "<style>\n",
       "    .dataframe thead tr:only-child th {\n",
       "        text-align: right;\n",
       "    }\n",
       "\n",
       "    .dataframe thead th {\n",
       "        text-align: left;\n",
       "    }\n",
       "\n",
       "    .dataframe tbody tr th {\n",
       "        vertical-align: top;\n",
       "    }\n",
       "</style>\n",
       "<table border=\"1\" class=\"dataframe\">\n",
       "  <thead>\n",
       "    <tr style=\"text-align: right;\">\n",
       "      <th></th>\n",
       "      <th>session_id</th>\n",
       "      <th>person</th>\n",
       "      <th>event count</th>\n",
       "      <th>min timestamp</th>\n",
       "      <th>max timestamp</th>\n",
       "      <th>time lapsed</th>\n",
       "      <th>ad campaign hit</th>\n",
       "      <th>brand listing</th>\n",
       "      <th>checkout</th>\n",
       "      <th>conversion</th>\n",
       "      <th>generic listing</th>\n",
       "      <th>lead</th>\n",
       "      <th>search engine hit</th>\n",
       "      <th>searched products</th>\n",
       "      <th>staticpage</th>\n",
       "      <th>viewed product</th>\n",
       "      <th>visited site</th>\n",
       "    </tr>\n",
       "  </thead>\n",
       "  <tbody>\n",
       "    <tr>\n",
       "      <th>0</th>\n",
       "      <td>0008ed71_1</td>\n",
       "      <td>0008ed71</td>\n",
       "      <td>1</td>\n",
       "      <td>2018-05-17 12:27:47</td>\n",
       "      <td>2018-05-17 12:27:47</td>\n",
       "      <td>0.0</td>\n",
       "      <td>NaN</td>\n",
       "      <td>NaN</td>\n",
       "      <td>1.0</td>\n",
       "      <td>NaN</td>\n",
       "      <td>NaN</td>\n",
       "      <td>NaN</td>\n",
       "      <td>NaN</td>\n",
       "      <td>NaN</td>\n",
       "      <td>NaN</td>\n",
       "      <td>NaN</td>\n",
       "      <td>NaN</td>\n",
       "    </tr>\n",
       "    <tr>\n",
       "      <th>1</th>\n",
       "      <td>0008ed71_2</td>\n",
       "      <td>0008ed71</td>\n",
       "      <td>2</td>\n",
       "      <td>2018-05-17 13:44:59</td>\n",
       "      <td>2018-05-17 13:45:00</td>\n",
       "      <td>1.0</td>\n",
       "      <td>NaN</td>\n",
       "      <td>NaN</td>\n",
       "      <td>1.0</td>\n",
       "      <td>NaN</td>\n",
       "      <td>NaN</td>\n",
       "      <td>NaN</td>\n",
       "      <td>NaN</td>\n",
       "      <td>NaN</td>\n",
       "      <td>NaN</td>\n",
       "      <td>NaN</td>\n",
       "      <td>1.0</td>\n",
       "    </tr>\n",
       "    <tr>\n",
       "      <th>2</th>\n",
       "      <td>0008ed71_3</td>\n",
       "      <td>0008ed71</td>\n",
       "      <td>3</td>\n",
       "      <td>2018-05-17 16:21:54</td>\n",
       "      <td>2018-05-17 16:28:37</td>\n",
       "      <td>403.0</td>\n",
       "      <td>NaN</td>\n",
       "      <td>NaN</td>\n",
       "      <td>1.0</td>\n",
       "      <td>NaN</td>\n",
       "      <td>1.0</td>\n",
       "      <td>NaN</td>\n",
       "      <td>NaN</td>\n",
       "      <td>NaN</td>\n",
       "      <td>NaN</td>\n",
       "      <td>NaN</td>\n",
       "      <td>1.0</td>\n",
       "    </tr>\n",
       "    <tr>\n",
       "      <th>3</th>\n",
       "      <td>00091926_1</td>\n",
       "      <td>00091926</td>\n",
       "      <td>7</td>\n",
       "      <td>2018-05-03 22:08:29</td>\n",
       "      <td>2018-05-03 22:09:59</td>\n",
       "      <td>90.0</td>\n",
       "      <td>NaN</td>\n",
       "      <td>NaN</td>\n",
       "      <td>NaN</td>\n",
       "      <td>NaN</td>\n",
       "      <td>NaN</td>\n",
       "      <td>NaN</td>\n",
       "      <td>NaN</td>\n",
       "      <td>NaN</td>\n",
       "      <td>NaN</td>\n",
       "      <td>6.0</td>\n",
       "      <td>1.0</td>\n",
       "    </tr>\n",
       "    <tr>\n",
       "      <th>4</th>\n",
       "      <td>00091926_10</td>\n",
       "      <td>00091926</td>\n",
       "      <td>4</td>\n",
       "      <td>2018-05-11 02:23:38</td>\n",
       "      <td>2018-05-11 02:23:57</td>\n",
       "      <td>19.0</td>\n",
       "      <td>1.0</td>\n",
       "      <td>NaN</td>\n",
       "      <td>NaN</td>\n",
       "      <td>NaN</td>\n",
       "      <td>NaN</td>\n",
       "      <td>NaN</td>\n",
       "      <td>NaN</td>\n",
       "      <td>NaN</td>\n",
       "      <td>NaN</td>\n",
       "      <td>2.0</td>\n",
       "      <td>1.0</td>\n",
       "    </tr>\n",
       "  </tbody>\n",
       "</table>\n",
       "</div>"
      ],
      "text/plain": [
       "    session_id    person  event count       min timestamp       max timestamp  \\\n",
       "0   0008ed71_1  0008ed71            1 2018-05-17 12:27:47 2018-05-17 12:27:47   \n",
       "1   0008ed71_2  0008ed71            2 2018-05-17 13:44:59 2018-05-17 13:45:00   \n",
       "2   0008ed71_3  0008ed71            3 2018-05-17 16:21:54 2018-05-17 16:28:37   \n",
       "3   00091926_1  00091926            7 2018-05-03 22:08:29 2018-05-03 22:09:59   \n",
       "4  00091926_10  00091926            4 2018-05-11 02:23:38 2018-05-11 02:23:57   \n",
       "\n",
       "   time lapsed  ad campaign hit  brand listing  checkout  conversion  \\\n",
       "0          0.0              NaN            NaN       1.0         NaN   \n",
       "1          1.0              NaN            NaN       1.0         NaN   \n",
       "2        403.0              NaN            NaN       1.0         NaN   \n",
       "3         90.0              NaN            NaN       NaN         NaN   \n",
       "4         19.0              1.0            NaN       NaN         NaN   \n",
       "\n",
       "   generic listing  lead  search engine hit  searched products  staticpage  \\\n",
       "0              NaN   NaN                NaN                NaN         NaN   \n",
       "1              NaN   NaN                NaN                NaN         NaN   \n",
       "2              1.0   NaN                NaN                NaN         NaN   \n",
       "3              NaN   NaN                NaN                NaN         NaN   \n",
       "4              NaN   NaN                NaN                NaN         NaN   \n",
       "\n",
       "   viewed product  visited site  \n",
       "0             NaN           NaN  \n",
       "1             NaN           1.0  \n",
       "2             NaN           1.0  \n",
       "3             6.0           1.0  \n",
       "4             2.0           1.0  "
      ]
     },
     "execution_count": 21,
     "metadata": {},
     "output_type": "execute_result"
    }
   ],
   "source": [
    "# Creamos un dataframe por sesión con las características de cada una\n",
    "dfsesionfeat = df.groupby(['session_id','person']).agg({'event':'count', 'timestamp':['min','max']})\n",
    "dfsesionfeat.columns = dfsesionfeat.columns.droplevel()\n",
    "dfsesionfeat.columns = ['event count','min timestamp','max timestamp']\n",
    "# Agregamos la duración en segundos de cada sesión\n",
    "dfsesionfeat['time lapsed'] = ((dfsesionfeat['max timestamp']) - dfsesionfeat['min timestamp']).astype('timedelta64[s]')\n",
    "# Eliminamos índices para hacer el merge\n",
    "dfsesionfeat = dfsesionfeat.reset_index()\n",
    "# Hacemos un join para agregar la cantidad de cada tipo de evento por sesión\n",
    "dfsesionfeat = dfsesionfeat.merge(dfsesion)\n",
    "dfsesionfeat.head()"
   ]
  },
  {
   "cell_type": "markdown",
   "metadata": {},
   "source": [
    "Ver: no se está incluyendo el tiempo del último evento, habría que ver si lo calculamos como promedio de tiempos de los eventos o de otra forma."
   ]
  },
  {
   "cell_type": "markdown",
   "metadata": {},
   "source": [
    "# Sets de datos"
   ]
  },
  {
   "cell_type": "markdown",
   "metadata": {},
   "source": [
    "Creamos un set de datos por usuario al que iremos agregando distintas características. "
   ]
  },
  {
   "cell_type": "markdown",
   "metadata": {},
   "source": [
    "\n",
    "### Features:\n",
    "- cantidad total de sesiones\n",
    "- promedio de eventos por sesión\n",
    "- tiempo total en el sitio\n",
    "- tiempo promedio por sesión\n",
    "- cantidad total de cada evento:\n",
    "    - ad campaign hit\n",
    "    - brand listing\n",
    "    - checkout\n",
    "    - conversion\n",
    "    - generic listing\n",
    "    - lead\n",
    "    - search engine hit\n",
    "    - searched products\n",
    "    - staticpage\n",
    "    - viewed product\n",
    "    - visited site"
   ]
  },
  {
   "cell_type": "code",
   "execution_count": 23,
   "metadata": {},
   "outputs": [
    {
     "name": "stdout",
     "output_type": "stream",
     "text": [
      "Cantidad de personas: 38829\n"
     ]
    },
    {
     "data": {
      "text/html": [
       "<div>\n",
       "<style>\n",
       "    .dataframe thead tr:only-child th {\n",
       "        text-align: right;\n",
       "    }\n",
       "\n",
       "    .dataframe thead th {\n",
       "        text-align: left;\n",
       "    }\n",
       "\n",
       "    .dataframe tbody tr th {\n",
       "        vertical-align: top;\n",
       "    }\n",
       "</style>\n",
       "<table border=\"1\" class=\"dataframe\">\n",
       "  <thead>\n",
       "    <tr>\n",
       "      <th></th>\n",
       "      <th>session_id</th>\n",
       "      <th>event count</th>\n",
       "      <th colspan=\"2\" halign=\"left\">time lapsed</th>\n",
       "      <th>staticpage</th>\n",
       "      <th>viewed product</th>\n",
       "      <th>visited site</th>\n",
       "    </tr>\n",
       "    <tr>\n",
       "      <th></th>\n",
       "      <th>count</th>\n",
       "      <th>mean</th>\n",
       "      <th>sum</th>\n",
       "      <th>mean</th>\n",
       "      <th>sum</th>\n",
       "      <th>sum</th>\n",
       "      <th>sum</th>\n",
       "    </tr>\n",
       "    <tr>\n",
       "      <th>person</th>\n",
       "      <th></th>\n",
       "      <th></th>\n",
       "      <th></th>\n",
       "      <th></th>\n",
       "      <th></th>\n",
       "      <th></th>\n",
       "      <th></th>\n",
       "    </tr>\n",
       "  </thead>\n",
       "  <tbody>\n",
       "    <tr>\n",
       "      <th>0008ed71</th>\n",
       "      <td>3</td>\n",
       "      <td>2.000000</td>\n",
       "      <td>404.0</td>\n",
       "      <td>134.666667</td>\n",
       "      <td>NaN</td>\n",
       "      <td>NaN</td>\n",
       "      <td>2.0</td>\n",
       "    </tr>\n",
       "    <tr>\n",
       "      <th>00091926</th>\n",
       "      <td>34</td>\n",
       "      <td>13.176471</td>\n",
       "      <td>14890.0</td>\n",
       "      <td>437.941176</td>\n",
       "      <td>NaN</td>\n",
       "      <td>372.0</td>\n",
       "      <td>34.0</td>\n",
       "    </tr>\n",
       "    <tr>\n",
       "      <th>00091a7a</th>\n",
       "      <td>1</td>\n",
       "      <td>10.000000</td>\n",
       "      <td>347.0</td>\n",
       "      <td>347.000000</td>\n",
       "      <td>NaN</td>\n",
       "      <td>3.0</td>\n",
       "      <td>1.0</td>\n",
       "    </tr>\n",
       "    <tr>\n",
       "      <th>000ba417</th>\n",
       "      <td>5</td>\n",
       "      <td>41.200000</td>\n",
       "      <td>12703.0</td>\n",
       "      <td>2540.600000</td>\n",
       "      <td>NaN</td>\n",
       "      <td>153.0</td>\n",
       "      <td>6.0</td>\n",
       "    </tr>\n",
       "    <tr>\n",
       "      <th>000c79fe</th>\n",
       "      <td>1</td>\n",
       "      <td>17.000000</td>\n",
       "      <td>620.0</td>\n",
       "      <td>620.000000</td>\n",
       "      <td>NaN</td>\n",
       "      <td>3.0</td>\n",
       "      <td>1.0</td>\n",
       "    </tr>\n",
       "  </tbody>\n",
       "</table>\n",
       "</div>"
      ],
      "text/plain": [
       "         session_id event count time lapsed              staticpage  \\\n",
       "              count        mean         sum         mean        sum   \n",
       "person                                                                \n",
       "0008ed71          3    2.000000       404.0   134.666667        NaN   \n",
       "00091926         34   13.176471     14890.0   437.941176        NaN   \n",
       "00091a7a          1   10.000000       347.0   347.000000        NaN   \n",
       "000ba417          5   41.200000     12703.0  2540.600000        NaN   \n",
       "000c79fe          1   17.000000       620.0   620.000000        NaN   \n",
       "\n",
       "         viewed product visited site  \n",
       "                    sum          sum  \n",
       "person                                \n",
       "0008ed71            NaN          2.0  \n",
       "00091926          372.0         34.0  \n",
       "00091a7a            3.0          1.0  \n",
       "000ba417          153.0          6.0  \n",
       "000c79fe            3.0          1.0  "
      ]
     },
     "execution_count": 23,
     "metadata": {},
     "output_type": "execute_result"
    }
   ],
   "source": [
    "user_session = dfsesionfeat.groupby(['person']).agg({'session_id':'count','event count':'mean',\n",
    "                                      'time lapsed':['sum','mean'],\n",
    "                                                     #'ad campaign hit':'sum','brand listing':'sum',\n",
    "                                      #'checkout':'sum','conversion':'sum','generic listing':'sum',\n",
    "                                      #'lead':'sum','search engine hit':'sum','searched products':'sum',\n",
    "                                      'staticpage':'sum','viewed product':'sum','visited site':'sum'\n",
    "                                     })\n",
    "print('Cantidad de personas:',user_session.shape[0])\n",
    "user_session.head()"
   ]
  },
  {
   "cell_type": "markdown",
   "metadata": {},
   "source": [
    "### Otras features para agregar según el contenido (por ahora no lo estamos usando para el modelo)\n",
    "Voy armando la matriz de contenido para cada sesión:\n",
    "Además se puede bajar un nivel más y tener en cuenta el contenido de cada evento.  Para cada cliente se puede analizar si tuvo o no un evento de cierto tipo (matriz de 0 y 1) o qué cantidad de eventos de cada tipo tuvo (matriz con valores de 0 a n)\n",
    "- ad campaign hit\n",
    "    - campaign source: ocurrencias para cada origen de campaña\n",
    "    - url_brand: de la url se puede extraer la marca, modelo y acción (compra/venta)\n",
    "- search engine hit:\n",
    "    - search engine\n",
    "- static page:\n",
    "    - staticpage: <---- cómo se puede analizar?\n",
    "- visited site:\n",
    "    - channel\n",
    "    - device: obtengo el tipo de dispositivo extrayendo la primer palabra.  Sale la marca.\n",
    "    - new_vs_returning\n",
    "    - browser: extraigo el browser sin la versión\n",
    "    - OS: extraigo el SO, sin la versión\n",
    "    - city, region, coutry: <------------- cómo se puede incluir?\n",
    "    - screen_resolution: <------------- cómo se puede incluir?\n",
    "- searched products\n",
    "    - skus: contar cuántos sku distintos buscaron?\n",
    "    - searched term: limitar pabras buscadas? por marca?\n",
    "- viewed product\n",
    "    - sku - cómo limitar?\n",
    "    - model - usamos brand\n",
    "    - condition\n",
    "    - storage\n",
    "    - color\n",
    "- Checked out\n",
    "    - igual a viewed\n",
    "- conversion\n",
    "    - igual a viewed\n",
    "- lead:\n",
    "    - para cada sku??"
   ]
  },
  {
   "cell_type": "code",
   "execution_count": 60,
   "metadata": {
    "collapsed": true
   },
   "outputs": [],
   "source": [
    "# primero obtengo para cada persona sus sesiones.\n",
    "data = df.loc[:,('person','session_id')].drop_duplicates()"
   ]
  },
  {
   "cell_type": "markdown",
   "metadata": {},
   "source": [
    "#### Ad campaign hit"
   ]
  },
  {
   "cell_type": "code",
   "execution_count": 61,
   "metadata": {},
   "outputs": [
    {
     "data": {
      "text/html": [
       "<div>\n",
       "<style>\n",
       "    .dataframe thead tr:only-child th {\n",
       "        text-align: right;\n",
       "    }\n",
       "\n",
       "    .dataframe thead th {\n",
       "        text-align: left;\n",
       "    }\n",
       "\n",
       "    .dataframe tbody tr th {\n",
       "        vertical-align: top;\n",
       "    }\n",
       "</style>\n",
       "<table border=\"1\" class=\"dataframe\">\n",
       "  <thead>\n",
       "    <tr style=\"text-align: right;\">\n",
       "      <th></th>\n",
       "      <th>person</th>\n",
       "      <th>session_id</th>\n",
       "      <th>Facebook</th>\n",
       "      <th>FacebookAds</th>\n",
       "      <th>FacebookSocial</th>\n",
       "      <th>MARKETING SOCIAL</th>\n",
       "      <th>afiliado</th>\n",
       "      <th>afilio</th>\n",
       "      <th>bing</th>\n",
       "      <th>blog</th>\n",
       "      <th>...</th>\n",
       "      <th>iphone</th>\n",
       "      <th>lenovo</th>\n",
       "      <th>lg</th>\n",
       "      <th>list</th>\n",
       "      <th>motorola</th>\n",
       "      <th>nokia</th>\n",
       "      <th>ofertas</th>\n",
       "      <th>quantum</th>\n",
       "      <th>samsung</th>\n",
       "      <th>sony</th>\n",
       "    </tr>\n",
       "  </thead>\n",
       "  <tbody>\n",
       "    <tr>\n",
       "      <th>0</th>\n",
       "      <td>0f4e2a4b</td>\n",
       "      <td>0f4e2a4b_1</td>\n",
       "      <td>NaN</td>\n",
       "      <td>NaN</td>\n",
       "      <td>NaN</td>\n",
       "      <td>NaN</td>\n",
       "      <td>NaN</td>\n",
       "      <td>NaN</td>\n",
       "      <td>NaN</td>\n",
       "      <td>NaN</td>\n",
       "      <td>...</td>\n",
       "      <td>1.0</td>\n",
       "      <td>NaN</td>\n",
       "      <td>NaN</td>\n",
       "      <td>NaN</td>\n",
       "      <td>NaN</td>\n",
       "      <td>NaN</td>\n",
       "      <td>NaN</td>\n",
       "      <td>NaN</td>\n",
       "      <td>NaN</td>\n",
       "      <td>NaN</td>\n",
       "    </tr>\n",
       "    <tr>\n",
       "      <th>1</th>\n",
       "      <td>0f4e2a4b</td>\n",
       "      <td>0f4e2a4b_2</td>\n",
       "      <td>NaN</td>\n",
       "      <td>NaN</td>\n",
       "      <td>NaN</td>\n",
       "      <td>NaN</td>\n",
       "      <td>NaN</td>\n",
       "      <td>NaN</td>\n",
       "      <td>NaN</td>\n",
       "      <td>NaN</td>\n",
       "      <td>...</td>\n",
       "      <td>1.0</td>\n",
       "      <td>NaN</td>\n",
       "      <td>NaN</td>\n",
       "      <td>NaN</td>\n",
       "      <td>NaN</td>\n",
       "      <td>NaN</td>\n",
       "      <td>NaN</td>\n",
       "      <td>NaN</td>\n",
       "      <td>NaN</td>\n",
       "      <td>NaN</td>\n",
       "    </tr>\n",
       "    <tr>\n",
       "      <th>2</th>\n",
       "      <td>7c7e0de9</td>\n",
       "      <td>7c7e0de9_1</td>\n",
       "      <td>NaN</td>\n",
       "      <td>NaN</td>\n",
       "      <td>1.0</td>\n",
       "      <td>NaN</td>\n",
       "      <td>NaN</td>\n",
       "      <td>NaN</td>\n",
       "      <td>NaN</td>\n",
       "      <td>NaN</td>\n",
       "      <td>...</td>\n",
       "      <td>NaN</td>\n",
       "      <td>NaN</td>\n",
       "      <td>NaN</td>\n",
       "      <td>NaN</td>\n",
       "      <td>NaN</td>\n",
       "      <td>NaN</td>\n",
       "      <td>NaN</td>\n",
       "      <td>NaN</td>\n",
       "      <td>NaN</td>\n",
       "      <td>NaN</td>\n",
       "    </tr>\n",
       "    <tr>\n",
       "      <th>3</th>\n",
       "      <td>8af11dbc</td>\n",
       "      <td>8af11dbc_1</td>\n",
       "      <td>NaN</td>\n",
       "      <td>NaN</td>\n",
       "      <td>NaN</td>\n",
       "      <td>NaN</td>\n",
       "      <td>NaN</td>\n",
       "      <td>NaN</td>\n",
       "      <td>NaN</td>\n",
       "      <td>NaN</td>\n",
       "      <td>...</td>\n",
       "      <td>NaN</td>\n",
       "      <td>NaN</td>\n",
       "      <td>NaN</td>\n",
       "      <td>NaN</td>\n",
       "      <td>NaN</td>\n",
       "      <td>NaN</td>\n",
       "      <td>NaN</td>\n",
       "      <td>NaN</td>\n",
       "      <td>1.0</td>\n",
       "      <td>NaN</td>\n",
       "    </tr>\n",
       "    <tr>\n",
       "      <th>4</th>\n",
       "      <td>23252ece</td>\n",
       "      <td>23252ece_1</td>\n",
       "      <td>NaN</td>\n",
       "      <td>NaN</td>\n",
       "      <td>NaN</td>\n",
       "      <td>NaN</td>\n",
       "      <td>NaN</td>\n",
       "      <td>NaN</td>\n",
       "      <td>NaN</td>\n",
       "      <td>NaN</td>\n",
       "      <td>...</td>\n",
       "      <td>NaN</td>\n",
       "      <td>NaN</td>\n",
       "      <td>NaN</td>\n",
       "      <td>NaN</td>\n",
       "      <td>NaN</td>\n",
       "      <td>NaN</td>\n",
       "      <td>NaN</td>\n",
       "      <td>NaN</td>\n",
       "      <td>NaN</td>\n",
       "      <td>NaN</td>\n",
       "    </tr>\n",
       "  </tbody>\n",
       "</table>\n",
       "<p>5 rows × 39 columns</p>\n",
       "</div>"
      ],
      "text/plain": [
       "     person  session_id  Facebook  FacebookAds  FacebookSocial  \\\n",
       "0  0f4e2a4b  0f4e2a4b_1       NaN          NaN             NaN   \n",
       "1  0f4e2a4b  0f4e2a4b_2       NaN          NaN             NaN   \n",
       "2  7c7e0de9  7c7e0de9_1       NaN          NaN             1.0   \n",
       "3  8af11dbc  8af11dbc_1       NaN          NaN             NaN   \n",
       "4  23252ece  23252ece_1       NaN          NaN             NaN   \n",
       "\n",
       "   MARKETING SOCIAL  afiliado  afilio  bing  blog  ...   iphone  lenovo  lg  \\\n",
       "0               NaN       NaN     NaN   NaN   NaN  ...      1.0     NaN NaN   \n",
       "1               NaN       NaN     NaN   NaN   NaN  ...      1.0     NaN NaN   \n",
       "2               NaN       NaN     NaN   NaN   NaN  ...      NaN     NaN NaN   \n",
       "3               NaN       NaN     NaN   NaN   NaN  ...      NaN     NaN NaN   \n",
       "4               NaN       NaN     NaN   NaN   NaN  ...      NaN     NaN NaN   \n",
       "\n",
       "   list  motorola  nokia  ofertas  quantum  samsung  sony  \n",
       "0   NaN       NaN    NaN      NaN      NaN      NaN   NaN  \n",
       "1   NaN       NaN    NaN      NaN      NaN      NaN   NaN  \n",
       "2   NaN       NaN    NaN      NaN      NaN      NaN   NaN  \n",
       "3   NaN       NaN    NaN      NaN      NaN      1.0   NaN  \n",
       "4   NaN       NaN    NaN      NaN      NaN      NaN   NaN  \n",
       "\n",
       "[5 rows x 39 columns]"
      ]
     },
     "execution_count": 61,
     "metadata": {},
     "output_type": "execute_result"
    }
   ],
   "source": [
    "dfcontent = df.loc[df['event']=='ad campaign hit',('session_id','campaign_source','timestamp')].pivot_table(index='session_id', columns='campaign_source', values='timestamp', aggfunc='count')\n",
    "dfcontent.columns = dfcontent.columns.astype('object')\n",
    "dfcontent = dfcontent.reset_index()\n",
    "# voy haciendo el join con la tabla final\n",
    "data = data.merge(dfcontent, on='session_id', how='left')\n",
    "\n",
    "dfcontent = df.loc[df['event']=='ad campaign hit',('session_id','url_brand','timestamp')].pivot_table(index='session_id', columns='url_brand', values='timestamp', aggfunc='count')\n",
    "dfcontent.columns = dfcontent.columns.astype('object')\n",
    "dfcontent = dfcontent.reset_index()\n",
    "data = data.merge(dfcontent, on='session_id', how='left')\n",
    "data.head()"
   ]
  },
  {
   "cell_type": "markdown",
   "metadata": {},
   "source": [
    "#### Search engine hit"
   ]
  },
  {
   "cell_type": "code",
   "execution_count": 62,
   "metadata": {},
   "outputs": [
    {
     "data": {
      "text/html": [
       "<div>\n",
       "<style>\n",
       "    .dataframe thead tr:only-child th {\n",
       "        text-align: right;\n",
       "    }\n",
       "\n",
       "    .dataframe thead th {\n",
       "        text-align: left;\n",
       "    }\n",
       "\n",
       "    .dataframe tbody tr th {\n",
       "        vertical-align: top;\n",
       "    }\n",
       "</style>\n",
       "<table border=\"1\" class=\"dataframe\">\n",
       "  <thead>\n",
       "    <tr style=\"text-align: right;\">\n",
       "      <th></th>\n",
       "      <th>person</th>\n",
       "      <th>session_id</th>\n",
       "      <th>Facebook</th>\n",
       "      <th>FacebookAds</th>\n",
       "      <th>FacebookSocial</th>\n",
       "      <th>MARKETING SOCIAL</th>\n",
       "      <th>afiliado</th>\n",
       "      <th>afilio</th>\n",
       "      <th>bing</th>\n",
       "      <th>blog</th>\n",
       "      <th>...</th>\n",
       "      <th>motorola</th>\n",
       "      <th>nokia</th>\n",
       "      <th>ofertas</th>\n",
       "      <th>quantum</th>\n",
       "      <th>samsung</th>\n",
       "      <th>sony</th>\n",
       "      <th>Ask</th>\n",
       "      <th>Bing</th>\n",
       "      <th>Google</th>\n",
       "      <th>Yahoo</th>\n",
       "    </tr>\n",
       "  </thead>\n",
       "  <tbody>\n",
       "    <tr>\n",
       "      <th>0</th>\n",
       "      <td>0f4e2a4b</td>\n",
       "      <td>0f4e2a4b_1</td>\n",
       "      <td>NaN</td>\n",
       "      <td>NaN</td>\n",
       "      <td>NaN</td>\n",
       "      <td>NaN</td>\n",
       "      <td>NaN</td>\n",
       "      <td>NaN</td>\n",
       "      <td>NaN</td>\n",
       "      <td>NaN</td>\n",
       "      <td>...</td>\n",
       "      <td>NaN</td>\n",
       "      <td>NaN</td>\n",
       "      <td>NaN</td>\n",
       "      <td>NaN</td>\n",
       "      <td>NaN</td>\n",
       "      <td>NaN</td>\n",
       "      <td>NaN</td>\n",
       "      <td>NaN</td>\n",
       "      <td>1.0</td>\n",
       "      <td>NaN</td>\n",
       "    </tr>\n",
       "    <tr>\n",
       "      <th>1</th>\n",
       "      <td>0f4e2a4b</td>\n",
       "      <td>0f4e2a4b_2</td>\n",
       "      <td>NaN</td>\n",
       "      <td>NaN</td>\n",
       "      <td>NaN</td>\n",
       "      <td>NaN</td>\n",
       "      <td>NaN</td>\n",
       "      <td>NaN</td>\n",
       "      <td>NaN</td>\n",
       "      <td>NaN</td>\n",
       "      <td>...</td>\n",
       "      <td>NaN</td>\n",
       "      <td>NaN</td>\n",
       "      <td>NaN</td>\n",
       "      <td>NaN</td>\n",
       "      <td>NaN</td>\n",
       "      <td>NaN</td>\n",
       "      <td>NaN</td>\n",
       "      <td>NaN</td>\n",
       "      <td>1.0</td>\n",
       "      <td>NaN</td>\n",
       "    </tr>\n",
       "    <tr>\n",
       "      <th>2</th>\n",
       "      <td>7c7e0de9</td>\n",
       "      <td>7c7e0de9_1</td>\n",
       "      <td>NaN</td>\n",
       "      <td>NaN</td>\n",
       "      <td>1.0</td>\n",
       "      <td>NaN</td>\n",
       "      <td>NaN</td>\n",
       "      <td>NaN</td>\n",
       "      <td>NaN</td>\n",
       "      <td>NaN</td>\n",
       "      <td>...</td>\n",
       "      <td>NaN</td>\n",
       "      <td>NaN</td>\n",
       "      <td>NaN</td>\n",
       "      <td>NaN</td>\n",
       "      <td>NaN</td>\n",
       "      <td>NaN</td>\n",
       "      <td>NaN</td>\n",
       "      <td>NaN</td>\n",
       "      <td>NaN</td>\n",
       "      <td>NaN</td>\n",
       "    </tr>\n",
       "    <tr>\n",
       "      <th>3</th>\n",
       "      <td>8af11dbc</td>\n",
       "      <td>8af11dbc_1</td>\n",
       "      <td>NaN</td>\n",
       "      <td>NaN</td>\n",
       "      <td>NaN</td>\n",
       "      <td>NaN</td>\n",
       "      <td>NaN</td>\n",
       "      <td>NaN</td>\n",
       "      <td>NaN</td>\n",
       "      <td>NaN</td>\n",
       "      <td>...</td>\n",
       "      <td>NaN</td>\n",
       "      <td>NaN</td>\n",
       "      <td>NaN</td>\n",
       "      <td>NaN</td>\n",
       "      <td>1.0</td>\n",
       "      <td>NaN</td>\n",
       "      <td>NaN</td>\n",
       "      <td>NaN</td>\n",
       "      <td>1.0</td>\n",
       "      <td>NaN</td>\n",
       "    </tr>\n",
       "    <tr>\n",
       "      <th>4</th>\n",
       "      <td>23252ece</td>\n",
       "      <td>23252ece_1</td>\n",
       "      <td>NaN</td>\n",
       "      <td>NaN</td>\n",
       "      <td>NaN</td>\n",
       "      <td>NaN</td>\n",
       "      <td>NaN</td>\n",
       "      <td>NaN</td>\n",
       "      <td>NaN</td>\n",
       "      <td>NaN</td>\n",
       "      <td>...</td>\n",
       "      <td>NaN</td>\n",
       "      <td>NaN</td>\n",
       "      <td>NaN</td>\n",
       "      <td>NaN</td>\n",
       "      <td>NaN</td>\n",
       "      <td>NaN</td>\n",
       "      <td>NaN</td>\n",
       "      <td>NaN</td>\n",
       "      <td>NaN</td>\n",
       "      <td>NaN</td>\n",
       "    </tr>\n",
       "  </tbody>\n",
       "</table>\n",
       "<p>5 rows × 43 columns</p>\n",
       "</div>"
      ],
      "text/plain": [
       "     person  session_id  Facebook  FacebookAds  FacebookSocial  \\\n",
       "0  0f4e2a4b  0f4e2a4b_1       NaN          NaN             NaN   \n",
       "1  0f4e2a4b  0f4e2a4b_2       NaN          NaN             NaN   \n",
       "2  7c7e0de9  7c7e0de9_1       NaN          NaN             1.0   \n",
       "3  8af11dbc  8af11dbc_1       NaN          NaN             NaN   \n",
       "4  23252ece  23252ece_1       NaN          NaN             NaN   \n",
       "\n",
       "   MARKETING SOCIAL  afiliado  afilio  bing  blog  ...    motorola  nokia  \\\n",
       "0               NaN       NaN     NaN   NaN   NaN  ...         NaN    NaN   \n",
       "1               NaN       NaN     NaN   NaN   NaN  ...         NaN    NaN   \n",
       "2               NaN       NaN     NaN   NaN   NaN  ...         NaN    NaN   \n",
       "3               NaN       NaN     NaN   NaN   NaN  ...         NaN    NaN   \n",
       "4               NaN       NaN     NaN   NaN   NaN  ...         NaN    NaN   \n",
       "\n",
       "   ofertas  quantum  samsung  sony  Ask  Bing  Google  Yahoo  \n",
       "0      NaN      NaN      NaN   NaN  NaN   NaN     1.0    NaN  \n",
       "1      NaN      NaN      NaN   NaN  NaN   NaN     1.0    NaN  \n",
       "2      NaN      NaN      NaN   NaN  NaN   NaN     NaN    NaN  \n",
       "3      NaN      NaN      1.0   NaN  NaN   NaN     1.0    NaN  \n",
       "4      NaN      NaN      NaN   NaN  NaN   NaN     NaN    NaN  \n",
       "\n",
       "[5 rows x 43 columns]"
      ]
     },
     "execution_count": 62,
     "metadata": {},
     "output_type": "execute_result"
    }
   ],
   "source": [
    "dfcontent = df.loc[df['event']=='search engine hit',('session_id','search_engine','timestamp')].pivot_table(index='session_id', columns='search_engine', values='timestamp', aggfunc='count')\n",
    "dfcontent.columns = dfcontent.columns.astype('object')\n",
    "dfcontent = dfcontent.reset_index()\n",
    "\n",
    "data = data.merge(dfcontent, on='session_id', how='left')\n",
    "data.head()"
   ]
  },
  {
   "cell_type": "markdown",
   "metadata": {},
   "source": [
    "#### Static page"
   ]
  },
  {
   "cell_type": "code",
   "execution_count": 63,
   "metadata": {},
   "outputs": [
    {
     "data": {
      "text/plain": [
       "(205640, 57)"
      ]
     },
     "execution_count": 63,
     "metadata": {},
     "output_type": "execute_result"
    }
   ],
   "source": [
    "dfcontent = df.loc[df['event']=='staticpage',('session_id','staticpage','timestamp')].pivot_table(index='session_id', columns='staticpage', values='timestamp', aggfunc='count')\n",
    "dfcontent.columns = dfcontent.columns.astype('object')\n",
    "dfcontent = dfcontent.reset_index()\n",
    "dfcontent.head()\n",
    "# voy haciendo el join con la tabla final\n",
    "data = data.merge(dfcontent, on='session_id', how='left')\n",
    "data.shape"
   ]
  },
  {
   "cell_type": "markdown",
   "metadata": {},
   "source": [
    "#### Visited site\n",
    "- channel\n",
    "- device type\n",
    "- new vs returning\n",
    "- operating_system_version: la primer palabra es el OS\n",
    "- browser_version"
   ]
  },
  {
   "cell_type": "code",
   "execution_count": 64,
   "metadata": {},
   "outputs": [
    {
     "name": "stdout",
     "output_type": "stream",
     "text": [
      "(205640, 64)\n"
     ]
    },
    {
     "data": {
      "text/plain": [
       "(205640, 105)"
      ]
     },
     "execution_count": 64,
     "metadata": {},
     "output_type": "execute_result"
    }
   ],
   "source": [
    "dfcontent = df.loc[df['event']=='visited site',('session_id','channel','timestamp')].pivot_table(index='session_id', columns='channel', values='timestamp', aggfunc='count')\n",
    "dfcontent.columns = dfcontent.columns.astype('object')\n",
    "dfcontent = dfcontent.reset_index()\n",
    "dfcontent.head()\n",
    "# voy haciendo el join con la tabla final\n",
    "data = data.merge(dfcontent, on='session_id', how='left')\n",
    "print(data.shape)\n",
    "dfcontent = df.loc[df['event']=='visited site',('session_id','device_type','timestamp')].pivot_table(index='session_id', columns='device_type', values='timestamp', aggfunc='count')\n",
    "dfcontent.columns = dfcontent.columns.astype('object')\n",
    "dfcontent = dfcontent.reset_index()\n",
    "dfcontent.head()\n",
    "# voy haciendo el join con la tabla final\n",
    "data = data.merge(dfcontent, on='session_id', how='left')\n",
    "data.shape\n",
    "dfcontent = df.loc[df['event']=='visited site',('session_id','new_vs_returning','timestamp')].pivot_table(index='session_id', columns='new_vs_returning', values='timestamp', aggfunc='count')\n",
    "dfcontent.columns = dfcontent.columns.astype('object')\n",
    "dfcontent = dfcontent.reset_index()\n",
    "dfcontent.head()\n",
    "# voy haciendo el join con la tabla final\n",
    "data = data.merge(dfcontent, on='session_id', how='left')\n",
    "data.shape\n",
    "dfcontent = df.loc[df['event']=='visited site',('session_id','os','timestamp')].pivot_table(index='session_id', columns='os', values='timestamp', aggfunc='count')\n",
    "dfcontent.columns = dfcontent.columns.astype('object')\n",
    "dfcontent = dfcontent.reset_index()\n",
    "dfcontent.head()\n",
    "# voy haciendo el join con la tabla final\n",
    "data = data.merge(dfcontent, on='session_id', how='left')\n",
    "data.shape\n",
    "dfcontent = df.loc[df['event']=='visited site',('session_id','browser','timestamp')].pivot_table(index='session_id', columns='browser', values='timestamp', aggfunc='count')\n",
    "dfcontent.columns = dfcontent.columns.astype('object')\n",
    "dfcontent = dfcontent.reset_index()\n",
    "dfcontent.head()\n",
    "# voy haciendo el join con la tabla final\n",
    "data = data.merge(dfcontent, on='session_id', how='left')\n",
    "data.shape"
   ]
  },
  {
   "cell_type": "markdown",
   "metadata": {},
   "source": [
    "#### Viewed product"
   ]
  },
  {
   "cell_type": "code",
   "execution_count": 65,
   "metadata": {},
   "outputs": [
    {
     "name": "stdout",
     "output_type": "stream",
     "text": [
      "(205640, 114)\n",
      "(205640, 119)\n",
      "(205640, 127)\n"
     ]
    },
    {
     "data": {
      "text/plain": [
       "(205640, 190)"
      ]
     },
     "execution_count": 65,
     "metadata": {},
     "output_type": "execute_result"
    }
   ],
   "source": [
    "dfcontent = df.loc[df['event']=='viewed product',('session_id','brand','timestamp')].pivot_table(index='session_id', columns='brand', values='timestamp', aggfunc='count')\n",
    "\n",
    "dfcontent.columns = dfcontent.columns.astype('object')\n",
    "dfcontent = dfcontent.reset_index()\n",
    "dfcontent.head()\n",
    "# voy haciendo el join con la tabla final\n",
    "data = data.merge(dfcontent, on='session_id', how='left')\n",
    "print(data.shape)\n",
    "dfcontent = df.loc[df['event']=='viewed product',('session_id','condition','timestamp')].pivot_table(index='session_id', columns='condition', values='timestamp', aggfunc='count')\n",
    "dfcontent.columns = dfcontent.columns.astype('object')\n",
    "dfcontent = dfcontent.reset_index()\n",
    "dfcontent.head()\n",
    "# voy haciendo el join con la tabla final\n",
    "data = data.merge(dfcontent, on='session_id', how='left')\n",
    "print(data.shape)\n",
    "dfcontent = df.loc[df['event']=='viewed product',('session_id','storage','timestamp')].pivot_table(index='session_id', columns='storage', values='timestamp', aggfunc='count')\n",
    "dfcontent.columns = dfcontent.columns.astype('object')\n",
    "dfcontent = dfcontent.reset_index()\n",
    "dfcontent.head()\n",
    "# voy haciendo el join con la tabla final\n",
    "data = data.merge(dfcontent, on='session_id', how='left')\n",
    "print(data.shape)\n",
    "dfcontent = df.loc[df['event']=='viewed product',('session_id','color','timestamp')].pivot_table(index='session_id', columns='color', values='timestamp', aggfunc='count')\n",
    "dfcontent.columns = dfcontent.columns.astype('object')\n",
    "dfcontent = dfcontent.reset_index()\n",
    "dfcontent.head()\n",
    "# voy haciendo el join con la tabla final\n",
    "data = data.merge(dfcontent, on='session_id', how='left')\n",
    "data.shape"
   ]
  },
  {
   "cell_type": "markdown",
   "metadata": {},
   "source": [
    "#### Checkout"
   ]
  },
  {
   "cell_type": "code",
   "execution_count": 66,
   "metadata": {},
   "outputs": [
    {
     "name": "stdout",
     "output_type": "stream",
     "text": [
      "(205640, 199)\n",
      "(205640, 204)\n",
      "(205640, 212)\n",
      "(205640, 263)\n"
     ]
    }
   ],
   "source": [
    "dfcontent = df.loc[df['event']=='checkout',('session_id','brand','timestamp')].pivot_table(index='session_id', columns='brand', values='timestamp', aggfunc='count')\n",
    "dfcontent.columns = dfcontent.columns.astype('object')\n",
    "dfcontent = dfcontent.reset_index()\n",
    "dfcontent.head()\n",
    "# voy haciendo el join con la tabla final\n",
    "data = data.merge(dfcontent, on='session_id', how='left', suffixes=('_viewed', '_checkout'))\n",
    "print(data.shape)\n",
    "dfcontent = df.loc[df['event']=='checkout',('session_id','condition','timestamp')].pivot_table(index='session_id', columns='condition', values='timestamp', aggfunc='count')\n",
    "dfcontent.columns = dfcontent.columns.astype('object')\n",
    "dfcontent = dfcontent.reset_index()\n",
    "dfcontent.head()\n",
    "# voy haciendo el join con la tabla final\n",
    "data = data.merge(dfcontent, on='session_id', how='left', suffixes=('_viewed', '_checkout'))\n",
    "print(data.shape)\n",
    "dfcontent = df.loc[df['event']=='checkout',('session_id','storage','timestamp')].pivot_table(index='session_id', columns='storage', values='timestamp', aggfunc='count')\n",
    "dfcontent.columns = dfcontent.columns.astype('object')\n",
    "dfcontent = dfcontent.reset_index()\n",
    "dfcontent.head()\n",
    "# voy haciendo el join con la tabla final\n",
    "data = data.merge(dfcontent, on='session_id', how='left', suffixes=('_viewed', '_checkout'))\n",
    "print(data.shape)\n",
    "dfcontent = df.loc[df['event']=='checkout',('session_id','color','timestamp')].pivot_table(index='session_id', columns='color', values='timestamp', aggfunc='count')\n",
    "dfcontent.columns = dfcontent.columns.astype('object')\n",
    "dfcontent = dfcontent.reset_index()\n",
    "dfcontent.head()\n",
    "# voy haciendo el join con la tabla final\n",
    "data = data.merge(dfcontent, on='session_id', how='left', suffixes=('_viewed', '_checkout'))\n",
    "print(data.shape)"
   ]
  },
  {
   "cell_type": "markdown",
   "metadata": {},
   "source": [
    "#### Conversion"
   ]
  },
  {
   "cell_type": "code",
   "execution_count": 67,
   "metadata": {},
   "outputs": [
    {
     "name": "stdout",
     "output_type": "stream",
     "text": [
      "(205640, 272)\n",
      "(205640, 277)\n",
      "(205640, 285)\n",
      "(205640, 323)\n"
     ]
    }
   ],
   "source": [
    "dfcontent = df.loc[df['event']=='conversion',('session_id','brand','timestamp')].pivot_table(index='session_id', columns='brand', values='timestamp', aggfunc='count')\n",
    "dfcontent.columns = dfcontent.columns.astype('object')\n",
    "dfcontent = dfcontent.reset_index()\n",
    "dfcontent.head()\n",
    "# voy haciendo el join con la tabla final\n",
    "data = data.merge(dfcontent, on='session_id', how='left', suffixes=('', '_conversion'))\n",
    "print(data.shape)\n",
    "dfcontent = df.loc[df['event']=='conversion',('session_id','condition','timestamp')].pivot_table(index='session_id', columns='condition', values='timestamp', aggfunc='count')\n",
    "dfcontent.columns = dfcontent.columns.astype('object')\n",
    "dfcontent = dfcontent.reset_index()\n",
    "dfcontent.head()\n",
    "# voy haciendo el join con la tabla final\n",
    "data = data.merge(dfcontent, on='session_id', how='left', suffixes=('', '_conversion'))\n",
    "print(data.shape)\n",
    "dfcontent = df.loc[df['event']=='conversion',('session_id','storage','timestamp')].pivot_table(index='session_id', columns='storage', values='timestamp', aggfunc='count')\n",
    "dfcontent.columns = dfcontent.columns.astype('object')\n",
    "dfcontent = dfcontent.reset_index()\n",
    "dfcontent.head()\n",
    "# voy haciendo el join con la tabla final\n",
    "data = data.merge(dfcontent, on='session_id', how='left', suffixes=('', '_conversion'))\n",
    "print(data.shape)\n",
    "dfcontent = df.loc[df['event']=='conversion',('session_id','color','timestamp')].pivot_table(index='session_id', columns='color', values='timestamp', aggfunc='count')\n",
    "dfcontent.columns = dfcontent.columns.astype('object')\n",
    "dfcontent = dfcontent.reset_index()\n",
    "dfcontent.head()\n",
    "# voy haciendo el join con la tabla final\n",
    "data = data.merge(dfcontent, on='session_id', how='left', suffixes=('', '_conversion'))\n",
    "print(data.shape)"
   ]
  },
  {
   "cell_type": "markdown",
   "metadata": {},
   "source": [
    "# Dataset final\n",
    "Agrupo por person y agrego los datos por sesión"
   ]
  },
  {
   "cell_type": "code",
   "execution_count": 68,
   "metadata": {
    "collapsed": true
   },
   "outputs": [],
   "source": [
    "# print(data.size)\n",
    "# print(data.shape)\n",
    "data = data.groupby('person').sum()\n",
    "data = data.reset_index()\n",
    "# print(data.shape)"
   ]
  },
  {
   "cell_type": "code",
   "execution_count": 69,
   "metadata": {},
   "outputs": [
    {
     "data": {
      "text/html": [
       "<div>\n",
       "<style>\n",
       "    .dataframe thead tr:only-child th {\n",
       "        text-align: right;\n",
       "    }\n",
       "\n",
       "    .dataframe thead th {\n",
       "        text-align: left;\n",
       "    }\n",
       "\n",
       "    .dataframe tbody tr th {\n",
       "        vertical-align: top;\n",
       "    }\n",
       "</style>\n",
       "<table border=\"1\" class=\"dataframe\">\n",
       "  <thead>\n",
       "    <tr>\n",
       "      <th></th>\n",
       "      <th>person</th>\n",
       "      <th>session_id</th>\n",
       "      <th>event count</th>\n",
       "      <th colspan=\"2\" halign=\"left\">time lapsed</th>\n",
       "      <th>staticpage</th>\n",
       "      <th>viewed product</th>\n",
       "      <th>visited site</th>\n",
       "    </tr>\n",
       "    <tr>\n",
       "      <th></th>\n",
       "      <th></th>\n",
       "      <th>count</th>\n",
       "      <th>mean</th>\n",
       "      <th>sum</th>\n",
       "      <th>mean</th>\n",
       "      <th>sum</th>\n",
       "      <th>sum</th>\n",
       "      <th>sum</th>\n",
       "    </tr>\n",
       "  </thead>\n",
       "  <tbody>\n",
       "    <tr>\n",
       "      <th>0</th>\n",
       "      <td>0008ed71</td>\n",
       "      <td>3</td>\n",
       "      <td>2.000000</td>\n",
       "      <td>404.0</td>\n",
       "      <td>134.666667</td>\n",
       "      <td>NaN</td>\n",
       "      <td>NaN</td>\n",
       "      <td>2.0</td>\n",
       "    </tr>\n",
       "    <tr>\n",
       "      <th>1</th>\n",
       "      <td>00091926</td>\n",
       "      <td>34</td>\n",
       "      <td>13.176471</td>\n",
       "      <td>14890.0</td>\n",
       "      <td>437.941176</td>\n",
       "      <td>NaN</td>\n",
       "      <td>372.0</td>\n",
       "      <td>34.0</td>\n",
       "    </tr>\n",
       "    <tr>\n",
       "      <th>2</th>\n",
       "      <td>00091a7a</td>\n",
       "      <td>1</td>\n",
       "      <td>10.000000</td>\n",
       "      <td>347.0</td>\n",
       "      <td>347.000000</td>\n",
       "      <td>NaN</td>\n",
       "      <td>3.0</td>\n",
       "      <td>1.0</td>\n",
       "    </tr>\n",
       "    <tr>\n",
       "      <th>3</th>\n",
       "      <td>000ba417</td>\n",
       "      <td>5</td>\n",
       "      <td>41.200000</td>\n",
       "      <td>12703.0</td>\n",
       "      <td>2540.600000</td>\n",
       "      <td>NaN</td>\n",
       "      <td>153.0</td>\n",
       "      <td>6.0</td>\n",
       "    </tr>\n",
       "    <tr>\n",
       "      <th>4</th>\n",
       "      <td>000c79fe</td>\n",
       "      <td>1</td>\n",
       "      <td>17.000000</td>\n",
       "      <td>620.0</td>\n",
       "      <td>620.000000</td>\n",
       "      <td>NaN</td>\n",
       "      <td>3.0</td>\n",
       "      <td>1.0</td>\n",
       "    </tr>\n",
       "  </tbody>\n",
       "</table>\n",
       "</div>"
      ],
      "text/plain": [
       "     person session_id event count time lapsed              staticpage  \\\n",
       "                 count        mean         sum         mean        sum   \n",
       "0  0008ed71          3    2.000000       404.0   134.666667        NaN   \n",
       "1  00091926         34   13.176471     14890.0   437.941176        NaN   \n",
       "2  00091a7a          1   10.000000       347.0   347.000000        NaN   \n",
       "3  000ba417          5   41.200000     12703.0  2540.600000        NaN   \n",
       "4  000c79fe          1   17.000000       620.0   620.000000        NaN   \n",
       "\n",
       "  viewed product visited site  \n",
       "             sum          sum  \n",
       "0            NaN          2.0  \n",
       "1          372.0         34.0  \n",
       "2            3.0          1.0  \n",
       "3          153.0          6.0  \n",
       "4            3.0          1.0  "
      ]
     },
     "execution_count": 69,
     "metadata": {},
     "output_type": "execute_result"
    }
   ],
   "source": [
    "data1 = user_session\n",
    "data1.columns = data1.columns.astype('object')\n",
    "data1 = data1.reset_index()\n",
    "data1.head()"
   ]
  },
  {
   "cell_type": "code",
   "execution_count": 70,
   "metadata": {},
   "outputs": [
    {
     "name": "stderr",
     "output_type": "stream",
     "text": [
      "C:\\Users\\vfarfan\\AppData\\Local\\Continuum\\anaconda3\\lib\\site-packages\\pandas\\core\\reshape\\merge.py:551: UserWarning: merging between different levels can give an unintended result (2 levels on the left, 1 on the right)\n",
      "  warnings.warn(msg, UserWarning)\n"
     ]
    },
    {
     "data": {
      "text/plain": [
       "(38829, 330)"
      ]
     },
     "execution_count": 70,
     "metadata": {},
     "output_type": "execute_result"
    }
   ],
   "source": [
    "data1 = data1.merge(data, on=['person'], how='left', suffixes=('', '_content'))\n",
    "data1.shape"
   ]
  },
  {
   "cell_type": "markdown",
   "metadata": {},
   "source": [
    "Agrupar por personas"
   ]
  },
  {
   "cell_type": "code",
   "execution_count": 77,
   "metadata": {},
   "outputs": [
    {
     "data": {
      "text/html": [
       "<div>\n",
       "<style>\n",
       "    .dataframe thead tr:only-child th {\n",
       "        text-align: right;\n",
       "    }\n",
       "\n",
       "    .dataframe thead th {\n",
       "        text-align: left;\n",
       "    }\n",
       "\n",
       "    .dataframe tbody tr th {\n",
       "        vertical-align: top;\n",
       "    }\n",
       "</style>\n",
       "<table border=\"1\" class=\"dataframe\">\n",
       "  <thead>\n",
       "    <tr style=\"text-align: right;\">\n",
       "      <th></th>\n",
       "      <th>(session_id, count)</th>\n",
       "      <th>(event count, mean)</th>\n",
       "      <th>(time lapsed, sum)</th>\n",
       "      <th>(time lapsed, mean)</th>\n",
       "      <th>(staticpage, sum)</th>\n",
       "      <th>(viewed product, sum)</th>\n",
       "      <th>(visited site, sum)</th>\n",
       "      <th>Facebook_x</th>\n",
       "      <th>FacebookAds</th>\n",
       "      <th>FacebookSocial</th>\n",
       "      <th>...</th>\n",
       "      <th>Preto Matte</th>\n",
       "      <th>Preto Verde</th>\n",
       "      <th>Preto Vermelho</th>\n",
       "      <th>Rosa</th>\n",
       "      <th>Rose</th>\n",
       "      <th>Roxo</th>\n",
       "      <th>Titânio</th>\n",
       "      <th>Verde</th>\n",
       "      <th>Vermelho</th>\n",
       "      <th>Ônix</th>\n",
       "    </tr>\n",
       "    <tr>\n",
       "      <th>person</th>\n",
       "      <th></th>\n",
       "      <th></th>\n",
       "      <th></th>\n",
       "      <th></th>\n",
       "      <th></th>\n",
       "      <th></th>\n",
       "      <th></th>\n",
       "      <th></th>\n",
       "      <th></th>\n",
       "      <th></th>\n",
       "      <th></th>\n",
       "      <th></th>\n",
       "      <th></th>\n",
       "      <th></th>\n",
       "      <th></th>\n",
       "      <th></th>\n",
       "      <th></th>\n",
       "      <th></th>\n",
       "      <th></th>\n",
       "      <th></th>\n",
       "      <th></th>\n",
       "    </tr>\n",
       "  </thead>\n",
       "  <tbody>\n",
       "    <tr>\n",
       "      <th>0008ed71</th>\n",
       "      <td>3</td>\n",
       "      <td>2.000000</td>\n",
       "      <td>404.0</td>\n",
       "      <td>134.666667</td>\n",
       "      <td>NaN</td>\n",
       "      <td>NaN</td>\n",
       "      <td>2.0</td>\n",
       "      <td>NaN</td>\n",
       "      <td>NaN</td>\n",
       "      <td>NaN</td>\n",
       "      <td>...</td>\n",
       "      <td>NaN</td>\n",
       "      <td>NaN</td>\n",
       "      <td>NaN</td>\n",
       "      <td>NaN</td>\n",
       "      <td>NaN</td>\n",
       "      <td>NaN</td>\n",
       "      <td>NaN</td>\n",
       "      <td>NaN</td>\n",
       "      <td>NaN</td>\n",
       "      <td>NaN</td>\n",
       "    </tr>\n",
       "    <tr>\n",
       "      <th>00091926</th>\n",
       "      <td>34</td>\n",
       "      <td>13.176471</td>\n",
       "      <td>14890.0</td>\n",
       "      <td>437.941176</td>\n",
       "      <td>NaN</td>\n",
       "      <td>372.0</td>\n",
       "      <td>34.0</td>\n",
       "      <td>NaN</td>\n",
       "      <td>NaN</td>\n",
       "      <td>NaN</td>\n",
       "      <td>...</td>\n",
       "      <td>NaN</td>\n",
       "      <td>NaN</td>\n",
       "      <td>NaN</td>\n",
       "      <td>NaN</td>\n",
       "      <td>NaN</td>\n",
       "      <td>NaN</td>\n",
       "      <td>NaN</td>\n",
       "      <td>NaN</td>\n",
       "      <td>NaN</td>\n",
       "      <td>NaN</td>\n",
       "    </tr>\n",
       "    <tr>\n",
       "      <th>00091a7a</th>\n",
       "      <td>1</td>\n",
       "      <td>10.000000</td>\n",
       "      <td>347.0</td>\n",
       "      <td>347.000000</td>\n",
       "      <td>NaN</td>\n",
       "      <td>3.0</td>\n",
       "      <td>1.0</td>\n",
       "      <td>NaN</td>\n",
       "      <td>NaN</td>\n",
       "      <td>NaN</td>\n",
       "      <td>...</td>\n",
       "      <td>NaN</td>\n",
       "      <td>NaN</td>\n",
       "      <td>NaN</td>\n",
       "      <td>NaN</td>\n",
       "      <td>NaN</td>\n",
       "      <td>NaN</td>\n",
       "      <td>NaN</td>\n",
       "      <td>NaN</td>\n",
       "      <td>NaN</td>\n",
       "      <td>NaN</td>\n",
       "    </tr>\n",
       "    <tr>\n",
       "      <th>000ba417</th>\n",
       "      <td>5</td>\n",
       "      <td>41.200000</td>\n",
       "      <td>12703.0</td>\n",
       "      <td>2540.600000</td>\n",
       "      <td>NaN</td>\n",
       "      <td>153.0</td>\n",
       "      <td>6.0</td>\n",
       "      <td>NaN</td>\n",
       "      <td>NaN</td>\n",
       "      <td>NaN</td>\n",
       "      <td>...</td>\n",
       "      <td>NaN</td>\n",
       "      <td>NaN</td>\n",
       "      <td>NaN</td>\n",
       "      <td>NaN</td>\n",
       "      <td>NaN</td>\n",
       "      <td>NaN</td>\n",
       "      <td>NaN</td>\n",
       "      <td>NaN</td>\n",
       "      <td>NaN</td>\n",
       "      <td>NaN</td>\n",
       "    </tr>\n",
       "    <tr>\n",
       "      <th>000c79fe</th>\n",
       "      <td>1</td>\n",
       "      <td>17.000000</td>\n",
       "      <td>620.0</td>\n",
       "      <td>620.000000</td>\n",
       "      <td>NaN</td>\n",
       "      <td>3.0</td>\n",
       "      <td>1.0</td>\n",
       "      <td>NaN</td>\n",
       "      <td>NaN</td>\n",
       "      <td>NaN</td>\n",
       "      <td>...</td>\n",
       "      <td>NaN</td>\n",
       "      <td>NaN</td>\n",
       "      <td>NaN</td>\n",
       "      <td>NaN</td>\n",
       "      <td>NaN</td>\n",
       "      <td>NaN</td>\n",
       "      <td>NaN</td>\n",
       "      <td>NaN</td>\n",
       "      <td>NaN</td>\n",
       "      <td>NaN</td>\n",
       "    </tr>\n",
       "  </tbody>\n",
       "</table>\n",
       "<p>5 rows × 328 columns</p>\n",
       "</div>"
      ],
      "text/plain": [
       "          (session_id, count)  (event count, mean)  (time lapsed, sum)  \\\n",
       "person                                                                   \n",
       "0008ed71                    3             2.000000               404.0   \n",
       "00091926                   34            13.176471             14890.0   \n",
       "00091a7a                    1            10.000000               347.0   \n",
       "000ba417                    5            41.200000             12703.0   \n",
       "000c79fe                    1            17.000000               620.0   \n",
       "\n",
       "          (time lapsed, mean)  (staticpage, sum)  (viewed product, sum)  \\\n",
       "person                                                                    \n",
       "0008ed71           134.666667                NaN                    NaN   \n",
       "00091926           437.941176                NaN                  372.0   \n",
       "00091a7a           347.000000                NaN                    3.0   \n",
       "000ba417          2540.600000                NaN                  153.0   \n",
       "000c79fe           620.000000                NaN                    3.0   \n",
       "\n",
       "          (visited site, sum)  Facebook_x  FacebookAds  FacebookSocial  ...   \\\n",
       "person                                                                  ...    \n",
       "0008ed71                  2.0         NaN          NaN             NaN  ...    \n",
       "00091926                 34.0         NaN          NaN             NaN  ...    \n",
       "00091a7a                  1.0         NaN          NaN             NaN  ...    \n",
       "000ba417                  6.0         NaN          NaN             NaN  ...    \n",
       "000c79fe                  1.0         NaN          NaN             NaN  ...    \n",
       "\n",
       "          Preto Matte  Preto Verde  Preto Vermelho  Rosa  Rose  Roxo  Titânio  \\\n",
       "person                                                                          \n",
       "0008ed71          NaN          NaN             NaN   NaN   NaN   NaN      NaN   \n",
       "00091926          NaN          NaN             NaN   NaN   NaN   NaN      NaN   \n",
       "00091a7a          NaN          NaN             NaN   NaN   NaN   NaN      NaN   \n",
       "000ba417          NaN          NaN             NaN   NaN   NaN   NaN      NaN   \n",
       "000c79fe          NaN          NaN             NaN   NaN   NaN   NaN      NaN   \n",
       "\n",
       "          Verde  Vermelho  Ônix  \n",
       "person                           \n",
       "0008ed71    NaN       NaN   NaN  \n",
       "00091926    NaN       NaN   NaN  \n",
       "00091a7a    NaN       NaN   NaN  \n",
       "000ba417    NaN       NaN   NaN  \n",
       "000c79fe    NaN       NaN   NaN  \n",
       "\n",
       "[5 rows x 328 columns]"
      ]
     },
     "execution_count": 77,
     "metadata": {},
     "output_type": "execute_result"
    }
   ],
   "source": [
    "byperson = data1.groupby('person').sum()\n",
    "byperson.shape\n",
    "byperson.head()"
   ]
  },
  {
   "cell_type": "markdown",
   "metadata": {},
   "source": [
    "## Features para agregar o cambiar?\n",
    "- tiempo entre sesiones"
   ]
  },
  {
   "cell_type": "markdown",
   "metadata": {},
   "source": [
    "## Preprocesamiento de los datos"
   ]
  },
  {
   "cell_type": "markdown",
   "metadata": {},
   "source": [
    "- Reemplazamos los Nan con 0"
   ]
  },
  {
   "cell_type": "code",
   "execution_count": 78,
   "metadata": {},
   "outputs": [
    {
     "data": {
      "text/plain": [
       "12735912"
      ]
     },
     "execution_count": 78,
     "metadata": {},
     "output_type": "execute_result"
    }
   ],
   "source": [
    "byperson = byperson.fillna(0)\n",
    "byperson.size"
   ]
  },
  {
   "cell_type": "code",
   "execution_count": 79,
   "metadata": {},
   "outputs": [
    {
     "data": {
      "text/html": [
       "<div>\n",
       "<style>\n",
       "    .dataframe thead tr:only-child th {\n",
       "        text-align: right;\n",
       "    }\n",
       "\n",
       "    .dataframe thead th {\n",
       "        text-align: left;\n",
       "    }\n",
       "\n",
       "    .dataframe tbody tr th {\n",
       "        vertical-align: top;\n",
       "    }\n",
       "</style>\n",
       "<table border=\"1\" class=\"dataframe\">\n",
       "  <thead>\n",
       "    <tr style=\"text-align: right;\">\n",
       "      <th></th>\n",
       "      <th>(session_id, count)</th>\n",
       "      <th>(event count, mean)</th>\n",
       "      <th>(time lapsed, sum)</th>\n",
       "      <th>(time lapsed, mean)</th>\n",
       "      <th>(staticpage, sum)</th>\n",
       "      <th>(viewed product, sum)</th>\n",
       "      <th>(visited site, sum)</th>\n",
       "      <th>Facebook_x</th>\n",
       "      <th>FacebookAds</th>\n",
       "      <th>FacebookSocial</th>\n",
       "      <th>...</th>\n",
       "      <th>Preto Matte</th>\n",
       "      <th>Preto Verde</th>\n",
       "      <th>Preto Vermelho</th>\n",
       "      <th>Rosa</th>\n",
       "      <th>Rose</th>\n",
       "      <th>Roxo</th>\n",
       "      <th>Titânio</th>\n",
       "      <th>Verde</th>\n",
       "      <th>Vermelho</th>\n",
       "      <th>Ônix</th>\n",
       "    </tr>\n",
       "    <tr>\n",
       "      <th>person</th>\n",
       "      <th></th>\n",
       "      <th></th>\n",
       "      <th></th>\n",
       "      <th></th>\n",
       "      <th></th>\n",
       "      <th></th>\n",
       "      <th></th>\n",
       "      <th></th>\n",
       "      <th></th>\n",
       "      <th></th>\n",
       "      <th></th>\n",
       "      <th></th>\n",
       "      <th></th>\n",
       "      <th></th>\n",
       "      <th></th>\n",
       "      <th></th>\n",
       "      <th></th>\n",
       "      <th></th>\n",
       "      <th></th>\n",
       "      <th></th>\n",
       "      <th></th>\n",
       "    </tr>\n",
       "  </thead>\n",
       "  <tbody>\n",
       "    <tr>\n",
       "      <th>0008ed71</th>\n",
       "      <td>3</td>\n",
       "      <td>2.000000</td>\n",
       "      <td>404.0</td>\n",
       "      <td>134.666667</td>\n",
       "      <td>0.0</td>\n",
       "      <td>0.0</td>\n",
       "      <td>2.0</td>\n",
       "      <td>0.0</td>\n",
       "      <td>0.0</td>\n",
       "      <td>0.0</td>\n",
       "      <td>...</td>\n",
       "      <td>0.0</td>\n",
       "      <td>0.0</td>\n",
       "      <td>0.0</td>\n",
       "      <td>0.0</td>\n",
       "      <td>0.0</td>\n",
       "      <td>0.0</td>\n",
       "      <td>0.0</td>\n",
       "      <td>0.0</td>\n",
       "      <td>0.0</td>\n",
       "      <td>0.0</td>\n",
       "    </tr>\n",
       "    <tr>\n",
       "      <th>00091926</th>\n",
       "      <td>34</td>\n",
       "      <td>13.176471</td>\n",
       "      <td>14890.0</td>\n",
       "      <td>437.941176</td>\n",
       "      <td>0.0</td>\n",
       "      <td>372.0</td>\n",
       "      <td>34.0</td>\n",
       "      <td>0.0</td>\n",
       "      <td>0.0</td>\n",
       "      <td>0.0</td>\n",
       "      <td>...</td>\n",
       "      <td>0.0</td>\n",
       "      <td>0.0</td>\n",
       "      <td>0.0</td>\n",
       "      <td>0.0</td>\n",
       "      <td>0.0</td>\n",
       "      <td>0.0</td>\n",
       "      <td>0.0</td>\n",
       "      <td>0.0</td>\n",
       "      <td>0.0</td>\n",
       "      <td>0.0</td>\n",
       "    </tr>\n",
       "    <tr>\n",
       "      <th>00091a7a</th>\n",
       "      <td>1</td>\n",
       "      <td>10.000000</td>\n",
       "      <td>347.0</td>\n",
       "      <td>347.000000</td>\n",
       "      <td>0.0</td>\n",
       "      <td>3.0</td>\n",
       "      <td>1.0</td>\n",
       "      <td>0.0</td>\n",
       "      <td>0.0</td>\n",
       "      <td>0.0</td>\n",
       "      <td>...</td>\n",
       "      <td>0.0</td>\n",
       "      <td>0.0</td>\n",
       "      <td>0.0</td>\n",
       "      <td>0.0</td>\n",
       "      <td>0.0</td>\n",
       "      <td>0.0</td>\n",
       "      <td>0.0</td>\n",
       "      <td>0.0</td>\n",
       "      <td>0.0</td>\n",
       "      <td>0.0</td>\n",
       "    </tr>\n",
       "    <tr>\n",
       "      <th>000ba417</th>\n",
       "      <td>5</td>\n",
       "      <td>41.200000</td>\n",
       "      <td>12703.0</td>\n",
       "      <td>2540.600000</td>\n",
       "      <td>0.0</td>\n",
       "      <td>153.0</td>\n",
       "      <td>6.0</td>\n",
       "      <td>0.0</td>\n",
       "      <td>0.0</td>\n",
       "      <td>0.0</td>\n",
       "      <td>...</td>\n",
       "      <td>0.0</td>\n",
       "      <td>0.0</td>\n",
       "      <td>0.0</td>\n",
       "      <td>0.0</td>\n",
       "      <td>0.0</td>\n",
       "      <td>0.0</td>\n",
       "      <td>0.0</td>\n",
       "      <td>0.0</td>\n",
       "      <td>0.0</td>\n",
       "      <td>0.0</td>\n",
       "    </tr>\n",
       "    <tr>\n",
       "      <th>000c79fe</th>\n",
       "      <td>1</td>\n",
       "      <td>17.000000</td>\n",
       "      <td>620.0</td>\n",
       "      <td>620.000000</td>\n",
       "      <td>0.0</td>\n",
       "      <td>3.0</td>\n",
       "      <td>1.0</td>\n",
       "      <td>0.0</td>\n",
       "      <td>0.0</td>\n",
       "      <td>0.0</td>\n",
       "      <td>...</td>\n",
       "      <td>0.0</td>\n",
       "      <td>0.0</td>\n",
       "      <td>0.0</td>\n",
       "      <td>0.0</td>\n",
       "      <td>0.0</td>\n",
       "      <td>0.0</td>\n",
       "      <td>0.0</td>\n",
       "      <td>0.0</td>\n",
       "      <td>0.0</td>\n",
       "      <td>0.0</td>\n",
       "    </tr>\n",
       "  </tbody>\n",
       "</table>\n",
       "<p>5 rows × 328 columns</p>\n",
       "</div>"
      ],
      "text/plain": [
       "          (session_id, count)  (event count, mean)  (time lapsed, sum)  \\\n",
       "person                                                                   \n",
       "0008ed71                    3             2.000000               404.0   \n",
       "00091926                   34            13.176471             14890.0   \n",
       "00091a7a                    1            10.000000               347.0   \n",
       "000ba417                    5            41.200000             12703.0   \n",
       "000c79fe                    1            17.000000               620.0   \n",
       "\n",
       "          (time lapsed, mean)  (staticpage, sum)  (viewed product, sum)  \\\n",
       "person                                                                    \n",
       "0008ed71           134.666667                0.0                    0.0   \n",
       "00091926           437.941176                0.0                  372.0   \n",
       "00091a7a           347.000000                0.0                    3.0   \n",
       "000ba417          2540.600000                0.0                  153.0   \n",
       "000c79fe           620.000000                0.0                    3.0   \n",
       "\n",
       "          (visited site, sum)  Facebook_x  FacebookAds  FacebookSocial  ...   \\\n",
       "person                                                                  ...    \n",
       "0008ed71                  2.0         0.0          0.0             0.0  ...    \n",
       "00091926                 34.0         0.0          0.0             0.0  ...    \n",
       "00091a7a                  1.0         0.0          0.0             0.0  ...    \n",
       "000ba417                  6.0         0.0          0.0             0.0  ...    \n",
       "000c79fe                  1.0         0.0          0.0             0.0  ...    \n",
       "\n",
       "          Preto Matte  Preto Verde  Preto Vermelho  Rosa  Rose  Roxo  Titânio  \\\n",
       "person                                                                          \n",
       "0008ed71          0.0          0.0             0.0   0.0   0.0   0.0      0.0   \n",
       "00091926          0.0          0.0             0.0   0.0   0.0   0.0      0.0   \n",
       "00091a7a          0.0          0.0             0.0   0.0   0.0   0.0      0.0   \n",
       "000ba417          0.0          0.0             0.0   0.0   0.0   0.0      0.0   \n",
       "000c79fe          0.0          0.0             0.0   0.0   0.0   0.0      0.0   \n",
       "\n",
       "          Verde  Vermelho  Ônix  \n",
       "person                           \n",
       "0008ed71    0.0       0.0   0.0  \n",
       "00091926    0.0       0.0   0.0  \n",
       "00091a7a    0.0       0.0   0.0  \n",
       "000ba417    0.0       0.0   0.0  \n",
       "000c79fe    0.0       0.0   0.0  \n",
       "\n",
       "[5 rows x 328 columns]"
      ]
     },
     "execution_count": 79,
     "metadata": {},
     "output_type": "execute_result"
    }
   ],
   "source": [
    "byperson.head()"
   ]
  },
  {
   "cell_type": "code",
   "execution_count": 80,
   "metadata": {},
   "outputs": [
    {
     "data": {
      "text/plain": [
       "array([('session_id', 'count'), ('event count', 'mean'),\n",
       "       ('time lapsed', 'sum'), ('time lapsed', 'mean'),\n",
       "       ('staticpage', 'sum'), ('viewed product', 'sum'),\n",
       "       ('visited site', 'sum'), 'Facebook_x', 'FacebookAds',\n",
       "       'FacebookSocial', 'MARKETING SOCIAL', 'afiliado', 'afilio', 'bing',\n",
       "       'blog', 'buscape', 'criteo', 'datacrush', 'emblue', 'gizmodo',\n",
       "       'google', 'indexa', 'manifest', 'mercadopago', 'onsite', 'rakuten',\n",
       "       'rtbhouse', 'voxus', 'yotpo', 'zanox', '', 'apple', 'asus', 'ipad',\n",
       "       'iphone', 'lenovo', 'lg', 'list', 'motorola', 'nokia', 'ofertas',\n",
       "       'quantum', 'samsung', 'sony', 'Ask', 'Bing', 'Google', 'Yahoo',\n",
       "       'AboutUs', 'Conditions', 'CustomerService', 'FaqEcommerce',\n",
       "       'PrivacyEcommerce', 'Quiosks', 'TermsAndConditionsEcommerce',\n",
       "       'TermsAndConditionsReturnEcommerce', 'black_friday',\n",
       "       'club-trocafone', 'galaxy-s8', 'how-to-buy', 'how-to-sell',\n",
       "       'trust-trocafone', 'Direct', 'Email', 'Organic', 'Paid', 'Referral',\n",
       "       'Social', 'Unknown_x', 'Computer', 'Smartphone', 'Tablet',\n",
       "       'Unknown_y', 'New', 'Returning', 'Android_x', 'BlackBerry_x',\n",
       "       'Chrome_x', 'Fedora', 'FreeBSD', 'Linux', 'Mac', 'Other_x',\n",
       "       'Symbian', 'Tizen', 'Ubuntu', 'Windows', 'iOS', 'Android_y',\n",
       "       'BingPreview', 'BlackBerry_y', 'Chrome_y', 'Chromium', 'Edge',\n",
       "       'Facebook_y', 'Firefox', 'IE', 'K-Meleon', 'Maxthon', 'Mobile',\n",
       "       'Opera', 'Other_y', 'Pinterest', 'Puffin', 'Safari', 'Samsung_x',\n",
       "       'UC', 'Vivaldi', 'WebKit', 'Yandex', 'Asus_viewed', 'LG_viewed',\n",
       "       'Lenovo_viewed', 'Motorola_viewed', 'Quantum_viewed', 'Samsung_y',\n",
       "       'Sony_viewed', 'iPad_viewed', 'iPhone_viewed', 'Bom_viewed',\n",
       "       'Bom - Sem Touch ID_viewed', 'Excelente_viewed', 'Muito Bom_viewed',\n",
       "       'Novo_viewed', '128GB_viewed', '16GB_viewed', '256GB_viewed',\n",
       "       '32GB_viewed', '4GB_viewed', '512MB_viewed', '64GB_viewed',\n",
       "       '8GB_viewed', 'Amarelo_viewed', 'Ametista_viewed', 'Azul_viewed',\n",
       "       'Azul Escuro_viewed', 'Azul Safira_viewed', 'Azul Topázio_viewed',\n",
       "       'Bambu_viewed', 'Black Piano_viewed', 'Branco_viewed',\n",
       "       'Branco Azul_viewed', 'Branco Azul Navy_viewed',\n",
       "       'Branco Bambu_viewed', 'Branco Cabernet_viewed',\n",
       "       'Branco Dourado_viewed', 'Branco Framboesa_viewed',\n",
       "       'Branco Pink_viewed', 'Branco Verde_viewed',\n",
       "       'Branco Vermelho_viewed', 'Cabernet_viewed', 'Cinza_viewed',\n",
       "       'Cinza espacial_viewed', 'Cobre', 'Coral_viewed', 'Couro Marrom',\n",
       "       'Couro Navy', 'Couro Vinho_viewed', 'Couro Vintage_viewed', 'Cromo',\n",
       "       'Dourado_viewed', 'Framboesa', 'Indigo_viewed', 'Iuna_viewed',\n",
       "       'Olympic Edition_viewed', 'Ouro_viewed', 'Ouro Rosa_viewed',\n",
       "       'Platinum_viewed', 'Prata_viewed', 'Prateado_viewed',\n",
       "       'Preto_viewed', 'Preto Asfalto', 'Preto Azul_viewed',\n",
       "       'Preto Azul Navy_viewed', 'Preto Bambu', 'Preto Branco',\n",
       "       'Preto Brilhante_viewed', 'Preto Cabernet_viewed',\n",
       "       'Preto Matte_viewed', 'Preto Pink_viewed', 'Preto Tabaco',\n",
       "       'Preto Verde_viewed', 'Preto Vermelho_viewed', 'Rosa_viewed',\n",
       "       'Rose_viewed', 'Rouge_viewed', 'Roxo_viewed', 'Silver',\n",
       "       'Titânio_viewed', 'Turquesa', 'Verde_viewed', 'Verde Petroleo',\n",
       "       'Verde Água_viewed', 'Vermelho_viewed', 'Ônix_viewed',\n",
       "       'Asus_checkout', 'LG_checkout', 'Lenovo_checkout',\n",
       "       'Motorola_checkout', 'Quantum_checkout', 'Samsung', 'Sony_checkout',\n",
       "       'iPad_checkout', 'iPhone_checkout', 'Bom_checkout',\n",
       "       'Bom - Sem Touch ID_checkout', 'Excelente_checkout',\n",
       "       'Muito Bom_checkout', 'Novo_checkout', '128GB_checkout',\n",
       "       '16GB_checkout', '256GB_checkout', '32GB_checkout', '4GB_checkout',\n",
       "       '512MB_checkout', '64GB_checkout', '8GB_checkout',\n",
       "       'Amarelo_checkout', 'Ametista_checkout', 'Azul_checkout',\n",
       "       'Azul Escuro_checkout', 'Azul Safira_checkout',\n",
       "       'Azul Topázio_checkout', 'Bambu_checkout', 'Black Piano_checkout',\n",
       "       'Branco_checkout', 'Branco Azul_checkout',\n",
       "       'Branco Azul Navy_checkout', 'Branco Bambu_checkout',\n",
       "       'Branco Cabernet_checkout', 'Branco Dourado_checkout',\n",
       "       'Branco Framboesa_checkout', 'Branco Pink_checkout',\n",
       "       'Branco Verde_checkout', 'Branco Vermelho_checkout',\n",
       "       'Cabernet_checkout', 'Cinza_checkout', 'Cinza espacial_checkout',\n",
       "       'Coral_checkout', 'Couro Vinho_checkout', 'Couro Vintage_checkout',\n",
       "       'Dourado_checkout', 'Indigo_checkout', 'Iuna_checkout',\n",
       "       'Olympic Edition_checkout', 'Ouro_checkout', 'Ouro Rosa_checkout',\n",
       "       'Platinum_checkout', 'Prata_checkout', 'Prateado_checkout',\n",
       "       'Preto_checkout', 'Preto Azul_checkout', 'Preto Azul Navy_checkout',\n",
       "       'Preto Brilhante_checkout', 'Preto Cabernet_checkout',\n",
       "       'Preto Matte_checkout', 'Preto Pink_checkout',\n",
       "       'Preto Verde_checkout', 'Preto Vermelho_checkout', 'Rosa_checkout',\n",
       "       'Rose_checkout', 'Rouge_checkout', 'Roxo_checkout',\n",
       "       'Titânio_checkout', 'Verde_checkout', 'Verde Água_checkout',\n",
       "       'Vermelho_checkout', 'Ônix_checkout', 'Asus', 'LG', 'Lenovo',\n",
       "       'Motorola', 'Quantum', 'Samsung_conversion', 'Sony', 'iPad',\n",
       "       'iPhone', 'Bom', 'Bom - Sem Touch ID', 'Excelente', 'Muito Bom',\n",
       "       'Novo', '128GB', '16GB', '256GB', '32GB', '4GB', '512MB', '64GB',\n",
       "       '8GB', 'Amarelo', 'Ametista', 'Azul', 'Azul Escuro', 'Azul Topázio',\n",
       "       'Bambu', 'Black Piano', 'Branco', 'Branco Azul', 'Branco Azul Navy',\n",
       "       'Branco Cabernet', 'Branco Dourado', 'Branco Framboesa',\n",
       "       'Branco Pink', 'Branco Vermelho', 'Cabernet', 'Cinza',\n",
       "       'Cinza espacial', 'Dourado', 'Indigo', 'Ouro', 'Ouro Rosa',\n",
       "       'Platinum', 'Prata', 'Prateado', 'Preto', 'Preto Azul',\n",
       "       'Preto Brilhante', 'Preto Matte', 'Preto Verde', 'Preto Vermelho',\n",
       "       'Rosa', 'Rose', 'Roxo', 'Titânio', 'Verde', 'Vermelho', 'Ônix'], dtype=object)"
      ]
     },
     "execution_count": 80,
     "metadata": {},
     "output_type": "execute_result"
    }
   ],
   "source": [
    "byperson.columns.values"
   ]
  },
  {
   "cell_type": "markdown",
   "metadata": {},
   "source": [
    "### Normalización\n",
    "Para qué algoritmos es necesario normalizar los datos antes de entrenar el modelo?"
   ]
  },
  {
   "cell_type": "markdown",
   "metadata": {},
   "source": [
    "### Set de entrenamiento\n",
    "Cargamos el archivo con los labels obtenido de Kaggle\n",
    "- Hay personas en el archivo de training para las cuales no tenemos datos anteriores.  Solucionado incluyendo datos de todos los países."
   ]
  },
  {
   "cell_type": "code",
   "execution_count": 81,
   "metadata": {},
   "outputs": [
    {
     "name": "stdout",
     "output_type": "stream",
     "text": [
      "Cantidad de personas: 19414\n",
      "0    18434\n",
      "1      980\n",
      "Name: label, dtype: int64\n"
     ]
    },
    {
     "data": {
      "text/html": [
       "<div>\n",
       "<style>\n",
       "    .dataframe thead tr:only-child th {\n",
       "        text-align: right;\n",
       "    }\n",
       "\n",
       "    .dataframe thead th {\n",
       "        text-align: left;\n",
       "    }\n",
       "\n",
       "    .dataframe tbody tr th {\n",
       "        vertical-align: top;\n",
       "    }\n",
       "</style>\n",
       "<table border=\"1\" class=\"dataframe\">\n",
       "  <thead>\n",
       "    <tr style=\"text-align: right;\">\n",
       "      <th></th>\n",
       "      <th>(session_id, count)</th>\n",
       "      <th>(event count, mean)</th>\n",
       "      <th>(time lapsed, sum)</th>\n",
       "      <th>(time lapsed, mean)</th>\n",
       "      <th>(staticpage, sum)</th>\n",
       "      <th>(viewed product, sum)</th>\n",
       "      <th>(visited site, sum)</th>\n",
       "      <th>Facebook_x</th>\n",
       "      <th>FacebookAds</th>\n",
       "      <th>FacebookSocial</th>\n",
       "      <th>...</th>\n",
       "      <th>Preto Verde</th>\n",
       "      <th>Preto Vermelho</th>\n",
       "      <th>Rosa</th>\n",
       "      <th>Rose</th>\n",
       "      <th>Roxo</th>\n",
       "      <th>Titânio</th>\n",
       "      <th>Verde</th>\n",
       "      <th>Vermelho</th>\n",
       "      <th>Ônix</th>\n",
       "      <th>label</th>\n",
       "    </tr>\n",
       "    <tr>\n",
       "      <th>person</th>\n",
       "      <th></th>\n",
       "      <th></th>\n",
       "      <th></th>\n",
       "      <th></th>\n",
       "      <th></th>\n",
       "      <th></th>\n",
       "      <th></th>\n",
       "      <th></th>\n",
       "      <th></th>\n",
       "      <th></th>\n",
       "      <th></th>\n",
       "      <th></th>\n",
       "      <th></th>\n",
       "      <th></th>\n",
       "      <th></th>\n",
       "      <th></th>\n",
       "      <th></th>\n",
       "      <th></th>\n",
       "      <th></th>\n",
       "      <th></th>\n",
       "      <th></th>\n",
       "    </tr>\n",
       "  </thead>\n",
       "  <tbody>\n",
       "    <tr>\n",
       "      <th>0008ed71</th>\n",
       "      <td>3</td>\n",
       "      <td>2.000000</td>\n",
       "      <td>404.0</td>\n",
       "      <td>134.666667</td>\n",
       "      <td>0.0</td>\n",
       "      <td>0.0</td>\n",
       "      <td>2.0</td>\n",
       "      <td>0.0</td>\n",
       "      <td>0.0</td>\n",
       "      <td>0.0</td>\n",
       "      <td>...</td>\n",
       "      <td>0.0</td>\n",
       "      <td>0.0</td>\n",
       "      <td>0.0</td>\n",
       "      <td>0.0</td>\n",
       "      <td>0.0</td>\n",
       "      <td>0.0</td>\n",
       "      <td>0.0</td>\n",
       "      <td>0.0</td>\n",
       "      <td>0.0</td>\n",
       "      <td>0</td>\n",
       "    </tr>\n",
       "    <tr>\n",
       "      <th>000c79fe</th>\n",
       "      <td>1</td>\n",
       "      <td>17.000000</td>\n",
       "      <td>620.0</td>\n",
       "      <td>620.000000</td>\n",
       "      <td>0.0</td>\n",
       "      <td>3.0</td>\n",
       "      <td>1.0</td>\n",
       "      <td>0.0</td>\n",
       "      <td>0.0</td>\n",
       "      <td>0.0</td>\n",
       "      <td>...</td>\n",
       "      <td>0.0</td>\n",
       "      <td>0.0</td>\n",
       "      <td>0.0</td>\n",
       "      <td>0.0</td>\n",
       "      <td>0.0</td>\n",
       "      <td>0.0</td>\n",
       "      <td>0.0</td>\n",
       "      <td>0.0</td>\n",
       "      <td>0.0</td>\n",
       "      <td>0</td>\n",
       "    </tr>\n",
       "    <tr>\n",
       "      <th>001802e4</th>\n",
       "      <td>1</td>\n",
       "      <td>19.000000</td>\n",
       "      <td>646.0</td>\n",
       "      <td>646.000000</td>\n",
       "      <td>0.0</td>\n",
       "      <td>4.0</td>\n",
       "      <td>1.0</td>\n",
       "      <td>0.0</td>\n",
       "      <td>0.0</td>\n",
       "      <td>0.0</td>\n",
       "      <td>...</td>\n",
       "      <td>0.0</td>\n",
       "      <td>0.0</td>\n",
       "      <td>0.0</td>\n",
       "      <td>0.0</td>\n",
       "      <td>0.0</td>\n",
       "      <td>0.0</td>\n",
       "      <td>0.0</td>\n",
       "      <td>0.0</td>\n",
       "      <td>0.0</td>\n",
       "      <td>0</td>\n",
       "    </tr>\n",
       "    <tr>\n",
       "      <th>0019e639</th>\n",
       "      <td>19</td>\n",
       "      <td>24.789474</td>\n",
       "      <td>10938.0</td>\n",
       "      <td>575.684211</td>\n",
       "      <td>0.0</td>\n",
       "      <td>189.0</td>\n",
       "      <td>19.0</td>\n",
       "      <td>0.0</td>\n",
       "      <td>0.0</td>\n",
       "      <td>0.0</td>\n",
       "      <td>...</td>\n",
       "      <td>0.0</td>\n",
       "      <td>0.0</td>\n",
       "      <td>0.0</td>\n",
       "      <td>0.0</td>\n",
       "      <td>0.0</td>\n",
       "      <td>0.0</td>\n",
       "      <td>0.0</td>\n",
       "      <td>0.0</td>\n",
       "      <td>0.0</td>\n",
       "      <td>0</td>\n",
       "    </tr>\n",
       "    <tr>\n",
       "      <th>001b0bf9</th>\n",
       "      <td>1</td>\n",
       "      <td>7.000000</td>\n",
       "      <td>918.0</td>\n",
       "      <td>918.000000</td>\n",
       "      <td>0.0</td>\n",
       "      <td>2.0</td>\n",
       "      <td>0.0</td>\n",
       "      <td>0.0</td>\n",
       "      <td>0.0</td>\n",
       "      <td>0.0</td>\n",
       "      <td>...</td>\n",
       "      <td>0.0</td>\n",
       "      <td>0.0</td>\n",
       "      <td>0.0</td>\n",
       "      <td>0.0</td>\n",
       "      <td>0.0</td>\n",
       "      <td>0.0</td>\n",
       "      <td>0.0</td>\n",
       "      <td>0.0</td>\n",
       "      <td>0.0</td>\n",
       "      <td>0</td>\n",
       "    </tr>\n",
       "  </tbody>\n",
       "</table>\n",
       "<p>5 rows × 329 columns</p>\n",
       "</div>"
      ],
      "text/plain": [
       "          (session_id, count)  (event count, mean)  (time lapsed, sum)  \\\n",
       "person                                                                   \n",
       "0008ed71                    3             2.000000               404.0   \n",
       "000c79fe                    1            17.000000               620.0   \n",
       "001802e4                    1            19.000000               646.0   \n",
       "0019e639                   19            24.789474             10938.0   \n",
       "001b0bf9                    1             7.000000               918.0   \n",
       "\n",
       "          (time lapsed, mean)  (staticpage, sum)  (viewed product, sum)  \\\n",
       "person                                                                    \n",
       "0008ed71           134.666667                0.0                    0.0   \n",
       "000c79fe           620.000000                0.0                    3.0   \n",
       "001802e4           646.000000                0.0                    4.0   \n",
       "0019e639           575.684211                0.0                  189.0   \n",
       "001b0bf9           918.000000                0.0                    2.0   \n",
       "\n",
       "          (visited site, sum)  Facebook_x  FacebookAds  FacebookSocial  ...    \\\n",
       "person                                                                  ...     \n",
       "0008ed71                  2.0         0.0          0.0             0.0  ...     \n",
       "000c79fe                  1.0         0.0          0.0             0.0  ...     \n",
       "001802e4                  1.0         0.0          0.0             0.0  ...     \n",
       "0019e639                 19.0         0.0          0.0             0.0  ...     \n",
       "001b0bf9                  0.0         0.0          0.0             0.0  ...     \n",
       "\n",
       "          Preto Verde  Preto Vermelho  Rosa  Rose  Roxo  Titânio  Verde  \\\n",
       "person                                                                    \n",
       "0008ed71          0.0             0.0   0.0   0.0   0.0      0.0    0.0   \n",
       "000c79fe          0.0             0.0   0.0   0.0   0.0      0.0    0.0   \n",
       "001802e4          0.0             0.0   0.0   0.0   0.0      0.0    0.0   \n",
       "0019e639          0.0             0.0   0.0   0.0   0.0      0.0    0.0   \n",
       "001b0bf9          0.0             0.0   0.0   0.0   0.0      0.0    0.0   \n",
       "\n",
       "          Vermelho  Ônix  label  \n",
       "person                           \n",
       "0008ed71       0.0   0.0      0  \n",
       "000c79fe       0.0   0.0      0  \n",
       "001802e4       0.0   0.0      0  \n",
       "0019e639       0.0   0.0      0  \n",
       "001b0bf9       0.0   0.0      0  \n",
       "\n",
       "[5 rows x 329 columns]"
      ]
     },
     "execution_count": 81,
     "metadata": {},
     "output_type": "execute_result"
    }
   ],
   "source": [
    "dftrain = pd.read_csv(\"data/labels_training_set.csv\")\n",
    "# Hacemos un merge para agregar el label a los datos anteriores\n",
    "dftrain = dftrain.set_index('person')\n",
    "#dftrain = byperson.merge(dftrain, how='inner',left_index=True,right_index=True)\n",
    "dftrain = byperson.merge(dftrain, how='inner',left_index=True,right_index=True)\n",
    "\n",
    "print('Cantidad de personas:',dftrain.shape[0])\n",
    "print(dftrain['label'].value_counts())\n",
    "dftrain.head()"
   ]
  },
  {
   "cell_type": "markdown",
   "metadata": {},
   "source": [
    "## Análisis del set de entrenamiento"
   ]
  },
  {
   "cell_type": "code",
   "execution_count": 82,
   "metadata": {},
   "outputs": [
    {
     "name": "stdout",
     "output_type": "stream",
     "text": [
      "0    0.949521\n",
      "1    0.050479\n",
      "Name: label, dtype: float64\n",
      "0    18434\n",
      "1      980\n",
      "Name: label, dtype: int64\n"
     ]
    }
   ],
   "source": [
    "dftrain.loc[dftrain['label']==1,:]\n",
    "print(dftrain['label'].value_counts(normalize=True))\n",
    "print(dftrain['label'].value_counts())"
   ]
  },
  {
   "cell_type": "markdown",
   "metadata": {},
   "source": [
    "## Tenemos un set de datos con clases desbalanceadas\n",
    "Cómo lo podemos resolver?\n",
    "- Oversampling?\n",
    "- Undersampling?"
   ]
  },
  {
   "cell_type": "code",
   "execution_count": 83,
   "metadata": {},
   "outputs": [
    {
     "data": {
      "text/plain": [
       "<matplotlib.axes._subplots.AxesSubplot at 0x1cf8133bcf8>"
      ]
     },
     "execution_count": 83,
     "metadata": {},
     "output_type": "execute_result"
    },
    {
     "data": {
      "image/png": "[encoded data removed]",
      "text/plain": [
       "<matplotlib.figure.Figure at 0x1cfcc26fac8>"
      ]
     },
     "metadata": {},
     "output_type": "display_data"
    }
   ],
   "source": [
    "sns.countplot('label',data=dftrain)"
   ]
  },
  {
   "cell_type": "code",
   "execution_count": 84,
   "metadata": {},
   "outputs": [
    {
     "name": "stdout",
     "output_type": "stream",
     "text": [
      "1941\n",
      "(2921, 329)\n"
     ]
    },
    {
     "data": {
      "text/html": [
       "<div>\n",
       "<style>\n",
       "    .dataframe thead tr:only-child th {\n",
       "        text-align: right;\n",
       "    }\n",
       "\n",
       "    .dataframe thead th {\n",
       "        text-align: left;\n",
       "    }\n",
       "\n",
       "    .dataframe tbody tr th {\n",
       "        vertical-align: top;\n",
       "    }\n",
       "</style>\n",
       "<table border=\"1\" class=\"dataframe\">\n",
       "  <thead>\n",
       "    <tr style=\"text-align: right;\">\n",
       "      <th></th>\n",
       "      <th>(session_id, count)</th>\n",
       "      <th>(event count, mean)</th>\n",
       "      <th>(time lapsed, sum)</th>\n",
       "      <th>(time lapsed, mean)</th>\n",
       "      <th>(staticpage, sum)</th>\n",
       "      <th>(viewed product, sum)</th>\n",
       "      <th>(visited site, sum)</th>\n",
       "      <th>Facebook_x</th>\n",
       "      <th>FacebookAds</th>\n",
       "      <th>FacebookSocial</th>\n",
       "      <th>...</th>\n",
       "      <th>Preto Verde</th>\n",
       "      <th>Preto Vermelho</th>\n",
       "      <th>Rosa</th>\n",
       "      <th>Rose</th>\n",
       "      <th>Roxo</th>\n",
       "      <th>Titânio</th>\n",
       "      <th>Verde</th>\n",
       "      <th>Vermelho</th>\n",
       "      <th>Ônix</th>\n",
       "      <th>label</th>\n",
       "    </tr>\n",
       "    <tr>\n",
       "      <th>person</th>\n",
       "      <th></th>\n",
       "      <th></th>\n",
       "      <th></th>\n",
       "      <th></th>\n",
       "      <th></th>\n",
       "      <th></th>\n",
       "      <th></th>\n",
       "      <th></th>\n",
       "      <th></th>\n",
       "      <th></th>\n",
       "      <th></th>\n",
       "      <th></th>\n",
       "      <th></th>\n",
       "      <th></th>\n",
       "      <th></th>\n",
       "      <th></th>\n",
       "      <th></th>\n",
       "      <th></th>\n",
       "      <th></th>\n",
       "      <th></th>\n",
       "      <th></th>\n",
       "    </tr>\n",
       "  </thead>\n",
       "  <tbody>\n",
       "    <tr>\n",
       "      <th>002e74b2</th>\n",
       "      <td>1</td>\n",
       "      <td>8.000000</td>\n",
       "      <td>172.0</td>\n",
       "      <td>172.000000</td>\n",
       "      <td>0.0</td>\n",
       "      <td>2.0</td>\n",
       "      <td>1.0</td>\n",
       "      <td>0.0</td>\n",
       "      <td>0.0</td>\n",
       "      <td>0.0</td>\n",
       "      <td>...</td>\n",
       "      <td>0.0</td>\n",
       "      <td>0.0</td>\n",
       "      <td>0.0</td>\n",
       "      <td>0.0</td>\n",
       "      <td>0.0</td>\n",
       "      <td>0.0</td>\n",
       "      <td>0.0</td>\n",
       "      <td>0.0</td>\n",
       "      <td>0.0</td>\n",
       "      <td>0</td>\n",
       "    </tr>\n",
       "    <tr>\n",
       "      <th>0031c75f</th>\n",
       "      <td>1</td>\n",
       "      <td>56.000000</td>\n",
       "      <td>2053.0</td>\n",
       "      <td>2053.000000</td>\n",
       "      <td>0.0</td>\n",
       "      <td>26.0</td>\n",
       "      <td>1.0</td>\n",
       "      <td>0.0</td>\n",
       "      <td>0.0</td>\n",
       "      <td>0.0</td>\n",
       "      <td>...</td>\n",
       "      <td>0.0</td>\n",
       "      <td>0.0</td>\n",
       "      <td>0.0</td>\n",
       "      <td>0.0</td>\n",
       "      <td>0.0</td>\n",
       "      <td>0.0</td>\n",
       "      <td>0.0</td>\n",
       "      <td>0.0</td>\n",
       "      <td>0.0</td>\n",
       "      <td>0</td>\n",
       "    </tr>\n",
       "    <tr>\n",
       "      <th>003476c0</th>\n",
       "      <td>4</td>\n",
       "      <td>10.750000</td>\n",
       "      <td>997.0</td>\n",
       "      <td>249.250000</td>\n",
       "      <td>0.0</td>\n",
       "      <td>6.0</td>\n",
       "      <td>4.0</td>\n",
       "      <td>0.0</td>\n",
       "      <td>0.0</td>\n",
       "      <td>0.0</td>\n",
       "      <td>...</td>\n",
       "      <td>0.0</td>\n",
       "      <td>0.0</td>\n",
       "      <td>0.0</td>\n",
       "      <td>0.0</td>\n",
       "      <td>0.0</td>\n",
       "      <td>0.0</td>\n",
       "      <td>0.0</td>\n",
       "      <td>0.0</td>\n",
       "      <td>0.0</td>\n",
       "      <td>1</td>\n",
       "    </tr>\n",
       "    <tr>\n",
       "      <th>003d4cac</th>\n",
       "      <td>3</td>\n",
       "      <td>2.666667</td>\n",
       "      <td>110.0</td>\n",
       "      <td>36.666667</td>\n",
       "      <td>0.0</td>\n",
       "      <td>2.0</td>\n",
       "      <td>3.0</td>\n",
       "      <td>0.0</td>\n",
       "      <td>0.0</td>\n",
       "      <td>0.0</td>\n",
       "      <td>...</td>\n",
       "      <td>0.0</td>\n",
       "      <td>0.0</td>\n",
       "      <td>0.0</td>\n",
       "      <td>0.0</td>\n",
       "      <td>0.0</td>\n",
       "      <td>0.0</td>\n",
       "      <td>0.0</td>\n",
       "      <td>0.0</td>\n",
       "      <td>0.0</td>\n",
       "      <td>1</td>\n",
       "    </tr>\n",
       "    <tr>\n",
       "      <th>003dd965</th>\n",
       "      <td>1</td>\n",
       "      <td>5.000000</td>\n",
       "      <td>77.0</td>\n",
       "      <td>77.000000</td>\n",
       "      <td>0.0</td>\n",
       "      <td>0.0</td>\n",
       "      <td>1.0</td>\n",
       "      <td>0.0</td>\n",
       "      <td>0.0</td>\n",
       "      <td>0.0</td>\n",
       "      <td>...</td>\n",
       "      <td>0.0</td>\n",
       "      <td>0.0</td>\n",
       "      <td>0.0</td>\n",
       "      <td>0.0</td>\n",
       "      <td>0.0</td>\n",
       "      <td>0.0</td>\n",
       "      <td>0.0</td>\n",
       "      <td>0.0</td>\n",
       "      <td>0.0</td>\n",
       "      <td>1</td>\n",
       "    </tr>\n",
       "  </tbody>\n",
       "</table>\n",
       "<p>5 rows × 329 columns</p>\n",
       "</div>"
      ],
      "text/plain": [
       "          (session_id, count)  (event count, mean)  (time lapsed, sum)  \\\n",
       "person                                                                   \n",
       "002e74b2                    1             8.000000               172.0   \n",
       "0031c75f                    1            56.000000              2053.0   \n",
       "003476c0                    4            10.750000               997.0   \n",
       "003d4cac                    3             2.666667               110.0   \n",
       "003dd965                    1             5.000000                77.0   \n",
       "\n",
       "          (time lapsed, mean)  (staticpage, sum)  (viewed product, sum)  \\\n",
       "person                                                                    \n",
       "002e74b2           172.000000                0.0                    2.0   \n",
       "0031c75f          2053.000000                0.0                   26.0   \n",
       "003476c0           249.250000                0.0                    6.0   \n",
       "003d4cac            36.666667                0.0                    2.0   \n",
       "003dd965            77.000000                0.0                    0.0   \n",
       "\n",
       "          (visited site, sum)  Facebook_x  FacebookAds  FacebookSocial  ...    \\\n",
       "person                                                                  ...     \n",
       "002e74b2                  1.0         0.0          0.0             0.0  ...     \n",
       "0031c75f                  1.0         0.0          0.0             0.0  ...     \n",
       "003476c0                  4.0         0.0          0.0             0.0  ...     \n",
       "003d4cac                  3.0         0.0          0.0             0.0  ...     \n",
       "003dd965                  1.0         0.0          0.0             0.0  ...     \n",
       "\n",
       "          Preto Verde  Preto Vermelho  Rosa  Rose  Roxo  Titânio  Verde  \\\n",
       "person                                                                    \n",
       "002e74b2          0.0             0.0   0.0   0.0   0.0      0.0    0.0   \n",
       "0031c75f          0.0             0.0   0.0   0.0   0.0      0.0    0.0   \n",
       "003476c0          0.0             0.0   0.0   0.0   0.0      0.0    0.0   \n",
       "003d4cac          0.0             0.0   0.0   0.0   0.0      0.0    0.0   \n",
       "003dd965          0.0             0.0   0.0   0.0   0.0      0.0    0.0   \n",
       "\n",
       "          Vermelho  Ônix  label  \n",
       "person                           \n",
       "002e74b2       0.0   0.0      0  \n",
       "0031c75f       0.0   0.0      0  \n",
       "003476c0       0.0   0.0      1  \n",
       "003d4cac       0.0   0.0      1  \n",
       "003dd965       0.0   0.0      1  \n",
       "\n",
       "[5 rows x 329 columns]"
      ]
     },
     "execution_count": 84,
     "metadata": {},
     "output_type": "execute_result"
    },
    {
     "data": {
      "image/png": "[encoded data removed]",
      "text/plain": [
       "<matplotlib.figure.Figure at 0x1cf81283c50>"
      ]
     },
     "metadata": {},
     "output_type": "display_data"
    }
   ],
   "source": [
    "# Undersampling.\n",
    "# Primero probamos reducir de forma aleatoria el set de datos con label 0\n",
    "size = 0.1\n",
    "dftrain2 = pd.Index(np.random.choice(dftrain.loc[dftrain['label']==0].index.values, size=round(len(dftrain.index.values)*size), replace=False))\n",
    "print(len(dftrain2))\n",
    "dftrain2 = dftrain2.union(dftrain.loc[dftrain['label'] == 1].index)\n",
    "\n",
    "dftrain2 = pd.DataFrame({'person':dftrain2})\n",
    "dftrain2 = dftrain2.set_index('person')\n",
    "dftrain2\n",
    "dftrain2 = dftrain2.merge(dftrain, how='inner', left_index=True, right_index=True)\n",
    "print(dftrain2.shape)\n",
    "\n",
    "sns.countplot('label',data=dftrain2)\n",
    "dftrain2.head()"
   ]
  },
  {
   "cell_type": "markdown",
   "metadata": {},
   "source": [
    "### Separamos un set para testeo\n",
    "Por ahora dejamos un 25% para el set de testeo.\n",
    "- Ver cómo usar cross validation."
   ]
  },
  {
   "cell_type": "code",
   "execution_count": 85,
   "metadata": {},
   "outputs": [],
   "source": [
    "from sklearn.cross_validation import train_test_split"
   ]
  },
  {
   "cell_type": "code",
   "execution_count": 86,
   "metadata": {},
   "outputs": [
    {
     "data": {
      "text/plain": [
       "(2921, 329)"
      ]
     },
     "execution_count": 86,
     "metadata": {},
     "output_type": "execute_result"
    }
   ],
   "source": [
    "dftrain2.shape"
   ]
  },
  {
   "cell_type": "code",
   "execution_count": 87,
   "metadata": {},
   "outputs": [],
   "source": [
    "X = dftrain2.iloc[:,0:328]\n",
    "y = dftrain2.iloc[:,328]\n",
    "\n",
    "X_train, X_test, y_train, y_test = train_test_split(X, y, test_size=0.25, random_state=0)"
   ]
  },
  {
   "cell_type": "code",
   "execution_count": 88,
   "metadata": {},
   "outputs": [
    {
     "data": {
      "text/plain": [
       "person\n",
       "002e74b2    0\n",
       "0031c75f    0\n",
       "003476c0    1\n",
       "003d4cac    1\n",
       "003dd965    1\n",
       "Name: label, dtype: int64"
      ]
     },
     "execution_count": 88,
     "metadata": {},
     "output_type": "execute_result"
    }
   ],
   "source": [
    "y.head()"
   ]
  },
  {
   "cell_type": "markdown",
   "metadata": {},
   "source": [
    "## Entrenamiento del modelo"
   ]
  },
  {
   "cell_type": "code",
   "execution_count": 89,
   "metadata": {
    "collapsed": true
   },
   "outputs": [],
   "source": [
    "# Librerías para métricas\n",
    "from sklearn.metrics import confusion_matrix\n",
    "from sklearn import metrics\n",
    "from sklearn.metrics import roc_auc_score\n",
    "from sklearn.metrics import roc_curve"
   ]
  },
  {
   "cell_type": "markdown",
   "metadata": {},
   "source": [
    "## 0. Sin modelo\n",
    "Vemos cómo dan las métricas si consideramos que nadie convierte."
   ]
  },
  {
   "cell_type": "code",
   "execution_count": 90,
   "metadata": {
    "collapsed": true
   },
   "outputs": [],
   "source": [
    "y_pred = np.zeros(len(y_test))\n",
    "cm = confusion_matrix(y_test, y_pred)"
   ]
  },
  {
   "cell_type": "code",
   "execution_count": 91,
   "metadata": {},
   "outputs": [
    {
     "name": "stdout",
     "output_type": "stream",
     "text": [
      "Recall: 0.0\n"
     ]
    },
    {
     "data": {
      "image/png": "[encoded data removed]",
      "text/plain": [
       "<matplotlib.figure.Figure at 0x1cf8126f4a8>"
      ]
     },
     "metadata": {},
     "output_type": "display_data"
    }
   ],
   "source": [
    "print(\"Recall:\",cm[1,1]/(cm[1,1]+cm[1,0]))\n",
    "fig= plt.figure(figsize=(6,3))# to plot the graph\n",
    "\n",
    "sns.heatmap(cm,cmap=\"coolwarm_r\",annot=True,linewidths=0.5, fmt='g')\n",
    "plt.title(\"Confusion_matrix\")\n",
    "plt.xlabel(\"Predicted_class\")\n",
    "plt.ylabel(\"Real class\")\n",
    "plt.show()\n"
   ]
  },
  {
   "cell_type": "code",
   "execution_count": 92,
   "metadata": {},
   "outputs": [
    {
     "data": {
      "image/png": "[encoded data removed]",
      "text/plain": [
       "<matplotlib.figure.Figure at 0x1cf812d10b8>"
      ]
     },
     "metadata": {},
     "output_type": "display_data"
    }
   ],
   "source": [
    "# Evaluamos el modelo\n",
    "logit_roc_auc = roc_auc_score(y_test, y_pred)\n",
    "fpr, tpr, thresholds = metrics.roc_curve(y_test, y_pred, pos_label=1)\n",
    "plt.figure()\n",
    "plt.plot(fpr, tpr, label='Logistic Regression (area = %0.2f)' % logit_roc_auc)\n",
    "plt.plot([0, 1], [0, 1],'r--')\n",
    "plt.xlim([0.0, 1.0])\n",
    "plt.ylim([0.0, 1.05])\n",
    "plt.xlabel('False Positive Rate')\n",
    "plt.ylabel('True Positive Rate')\n",
    "plt.title('Receiver operating characteristic')\n",
    "plt.legend(loc=\"lower right\")\n",
    "plt.savefig('Log_ROC')\n",
    "plt.show()"
   ]
  },
  {
   "cell_type": "code",
   "execution_count": 93,
   "metadata": {},
   "outputs": [
    {
     "name": "stdout",
     "output_type": "stream",
     "text": [
      "Accuracy: 67.17%\n"
     ]
    }
   ],
   "source": [
    "accuracy = metrics.accuracy_score(y_test, y_pred)\n",
    "print(\"Accuracy: %.2f%%\" % (accuracy * 100.0))"
   ]
  },
  {
   "cell_type": "markdown",
   "metadata": {},
   "source": [
    "### 1. Regresion logística"
   ]
  },
  {
   "cell_type": "code",
   "execution_count": 94,
   "metadata": {
    "collapsed": true
   },
   "outputs": [],
   "source": [
    "# Feature Scaling\n",
    "from sklearn.preprocessing import StandardScaler\n",
    "sc_X = StandardScaler()\n",
    "X_train = sc_X.fit_transform(X_train)\n",
    "X_test = sc_X.transform(X_test)"
   ]
  },
  {
   "cell_type": "code",
   "execution_count": 95,
   "metadata": {},
   "outputs": [
    {
     "data": {
      "text/plain": [
       "LogisticRegression(C=0.5, class_weight=None, dual=False, fit_intercept=True,\n",
       "          intercept_scaling=1, max_iter=100, multi_class='ovr', n_jobs=1,\n",
       "          penalty='l2', random_state=0, solver='liblinear', tol=0.0001,\n",
       "          verbose=0, warm_start=False)"
      ]
     },
     "execution_count": 95,
     "metadata": {},
     "output_type": "execute_result"
    }
   ],
   "source": [
    "from sklearn.linear_model import LogisticRegression\n",
    "# Entrenamos el modelo\n",
    "classifier = LogisticRegression(random_state = 0, C=0.5)\n",
    "classifier.fit(X_train, y_train)"
   ]
  },
  {
   "cell_type": "markdown",
   "metadata": {},
   "source": [
    "#### Predicción"
   ]
  },
  {
   "cell_type": "code",
   "execution_count": 96,
   "metadata": {
    "collapsed": true
   },
   "outputs": [],
   "source": [
    "y_pred = classifier.predict(X_test)\n",
    "# Confusion matrix\n",
    "from sklearn.metrics import confusion_matrix\n",
    "cm = confusion_matrix(y_test, y_pred)"
   ]
  },
  {
   "cell_type": "code",
   "execution_count": 97,
   "metadata": {},
   "outputs": [
    {
     "name": "stdout",
     "output_type": "stream",
     "text": [
      "Recall: 0.270833333333\n"
     ]
    },
    {
     "data": {
      "image/png": "[encoded data removed]",
      "text/plain": [
       "<matplotlib.figure.Figure at 0x1cf812cc470>"
      ]
     },
     "metadata": {},
     "output_type": "display_data"
    }
   ],
   "source": [
    "print(\"Recall:\",cm[1,1]/(cm[1,1]+cm[1,0]))\n",
    "fig= plt.figure(figsize=(6,3))# to plot the graph\n",
    "\n",
    "sns.heatmap(cm,cmap=\"coolwarm_r\",annot=True,linewidths=0.5, fmt='g')\n",
    "plt.title(\"Confusion_matrix\")\n",
    "plt.xlabel(\"Predicted_class\")\n",
    "plt.ylabel(\"Real class\")\n",
    "plt.show()"
   ]
  },
  {
   "cell_type": "code",
   "execution_count": 98,
   "metadata": {},
   "outputs": [
    {
     "data": {
      "image/png": "[encoded data removed]",
      "text/plain": [
       "<matplotlib.figure.Figure at 0x1cf8131f2b0>"
      ]
     },
     "metadata": {},
     "output_type": "display_data"
    }
   ],
   "source": [
    "# Evaluamos el modelo\n",
    "logit_roc_auc = roc_auc_score(y_test, y_pred)\n",
    "fpr, tpr, thresholds = metrics.roc_curve(y_test, y_pred, pos_label=1)\n",
    "plt.figure()\n",
    "plt.plot(fpr, tpr, label='Logistic Regression (area = %0.2f)' % logit_roc_auc)\n",
    "plt.plot([0, 1], [0, 1],'r--')\n",
    "plt.xlim([0.0, 1.0])\n",
    "plt.ylim([0.0, 1.05])\n",
    "plt.xlabel('False Positive Rate')\n",
    "plt.ylabel('True Positive Rate')\n",
    "plt.title('Receiver operating characteristic')\n",
    "plt.legend(loc=\"lower right\")\n",
    "plt.savefig('Log_ROC')\n",
    "plt.show()"
   ]
  },
  {
   "cell_type": "code",
   "execution_count": 99,
   "metadata": {},
   "outputs": [
    {
     "name": "stdout",
     "output_type": "stream",
     "text": [
      "Accuracy: 67.58%\n"
     ]
    }
   ],
   "source": [
    "accuracy = metrics.accuracy_score(y_test, y_pred)\n",
    "print(\"Accuracy: %.2f%%\" % (accuracy * 100.0))"
   ]
  },
  {
   "cell_type": "markdown",
   "metadata": {},
   "source": [
    "## Random Forest\n"
   ]
  },
  {
   "cell_type": "code",
   "execution_count": 100,
   "metadata": {},
   "outputs": [
    {
     "data": {
      "text/plain": [
       "RandomForestClassifier(bootstrap=True, class_weight=None, criterion='gini',\n",
       "            max_depth=100, max_features='auto', max_leaf_nodes=None,\n",
       "            min_impurity_decrease=0.0, min_impurity_split=None,\n",
       "            min_samples_leaf=1, min_samples_split=2,\n",
       "            min_weight_fraction_leaf=0.0, n_estimators=1000, n_jobs=1,\n",
       "            oob_score=False, random_state=0, verbose=0, warm_start=False)"
      ]
     },
     "execution_count": 100,
     "metadata": {},
     "output_type": "execute_result"
    }
   ],
   "source": [
    "from sklearn.ensemble import RandomForestClassifier\n",
    "classifier = RandomForestClassifier(n_estimators=1000, criterion=\"gini\", max_depth=100, random_state= 0)\n",
    "classifier.fit(X_train, y_train)\n"
   ]
  },
  {
   "cell_type": "code",
   "execution_count": 101,
   "metadata": {
    "collapsed": true
   },
   "outputs": [],
   "source": [
    "y_pred = classifier.predict(X_test)"
   ]
  },
  {
   "cell_type": "code",
   "execution_count": 102,
   "metadata": {
    "collapsed": true
   },
   "outputs": [],
   "source": [
    "# Confusion matrix\n",
    "from sklearn.metrics import confusion_matrix\n",
    "cm = confusion_matrix(y_test, y_pred)"
   ]
  },
  {
   "cell_type": "code",
   "execution_count": 103,
   "metadata": {},
   "outputs": [
    {
     "name": "stdout",
     "output_type": "stream",
     "text": [
      "Recall: 0.6\n"
     ]
    },
    {
     "data": {
      "image/png": "[encoded data removed]",
      "text/plain": [
       "<matplotlib.figure.Figure at 0x1cf806394a8>"
      ]
     },
     "metadata": {},
     "output_type": "display_data"
    }
   ],
   "source": [
    "print(\"Recall:\",cm[1,1]/(cm[1,1]+cm[1,0]))\n",
    "fig= plt.figure(figsize=(6,3))# to plot the graph\n",
    "\n",
    "sns.heatmap(cm,cmap=\"coolwarm_r\",annot=True,linewidths=0.5, fmt='g')\n",
    "plt.title(\"Confusion_matrix\")\n",
    "plt.xlabel(\"Predicted_class\")\n",
    "plt.ylabel(\"Real class\")\n",
    "plt.show()"
   ]
  },
  {
   "cell_type": "code",
   "execution_count": 104,
   "metadata": {},
   "outputs": [
    {
     "data": {
      "image/png": "[encoded data removed]",
      "text/plain": [
       "<matplotlib.figure.Figure at 0x1cf8133b8d0>"
      ]
     },
     "metadata": {},
     "output_type": "display_data"
    }
   ],
   "source": [
    "# Evaluamos el modelo\n",
    "logit_roc_auc = roc_auc_score(y_test, y_pred)\n",
    "fpr, tpr, thresholds = metrics.roc_curve(y_test, y_pred, pos_label=1)\n",
    "plt.figure()\n",
    "plt.plot(fpr, tpr, label='Logistic Regression (area = %0.2f)' % logit_roc_auc)\n",
    "plt.plot([0, 1], [0, 1],'r--')\n",
    "plt.xlim([0.0, 1.0])\n",
    "plt.ylim([0.0, 1.05])\n",
    "plt.xlabel('False Positive Rate')\n",
    "plt.ylabel('True Positive Rate')\n",
    "plt.title('Receiver operating characteristic')\n",
    "plt.legend(loc=\"lower right\")\n",
    "plt.savefig('Log_ROC')\n",
    "plt.show()"
   ]
  },
  {
   "cell_type": "code",
   "execution_count": 105,
   "metadata": {},
   "outputs": [
    {
     "name": "stdout",
     "output_type": "stream",
     "text": [
      "Accuracy: 77.02%\n"
     ]
    }
   ],
   "source": [
    "accuracy = metrics.accuracy_score(y_test, y_pred)\n",
    "print(\"Accuracy: %.2f%%\" % (accuracy * 100.0))"
   ]
  },
  {
   "cell_type": "markdown",
   "metadata": {
    "collapsed": true
   },
   "source": [
    "## Set de testeo"
   ]
  },
  {
   "cell_type": "code",
   "execution_count": 109,
   "metadata": {},
   "outputs": [
    {
     "name": "stdout",
     "output_type": "stream",
     "text": [
      "Cantidad de personas: 19415\n"
     ]
    },
    {
     "data": {
      "text/html": [
       "<div>\n",
       "<style>\n",
       "    .dataframe thead tr:only-child th {\n",
       "        text-align: right;\n",
       "    }\n",
       "\n",
       "    .dataframe thead th {\n",
       "        text-align: left;\n",
       "    }\n",
       "\n",
       "    .dataframe tbody tr th {\n",
       "        vertical-align: top;\n",
       "    }\n",
       "</style>\n",
       "<table border=\"1\" class=\"dataframe\">\n",
       "  <thead>\n",
       "    <tr style=\"text-align: right;\">\n",
       "      <th></th>\n",
       "      <th>(session_id, count)</th>\n",
       "      <th>(event count, mean)</th>\n",
       "      <th>(time lapsed, sum)</th>\n",
       "      <th>(time lapsed, mean)</th>\n",
       "      <th>(staticpage, sum)</th>\n",
       "      <th>(viewed product, sum)</th>\n",
       "      <th>(visited site, sum)</th>\n",
       "      <th>Facebook_x</th>\n",
       "      <th>FacebookAds</th>\n",
       "      <th>FacebookSocial</th>\n",
       "      <th>...</th>\n",
       "      <th>Preto Matte</th>\n",
       "      <th>Preto Verde</th>\n",
       "      <th>Preto Vermelho</th>\n",
       "      <th>Rosa</th>\n",
       "      <th>Rose</th>\n",
       "      <th>Roxo</th>\n",
       "      <th>Titânio</th>\n",
       "      <th>Verde</th>\n",
       "      <th>Vermelho</th>\n",
       "      <th>Ônix</th>\n",
       "    </tr>\n",
       "    <tr>\n",
       "      <th>person</th>\n",
       "      <th></th>\n",
       "      <th></th>\n",
       "      <th></th>\n",
       "      <th></th>\n",
       "      <th></th>\n",
       "      <th></th>\n",
       "      <th></th>\n",
       "      <th></th>\n",
       "      <th></th>\n",
       "      <th></th>\n",
       "      <th></th>\n",
       "      <th></th>\n",
       "      <th></th>\n",
       "      <th></th>\n",
       "      <th></th>\n",
       "      <th></th>\n",
       "      <th></th>\n",
       "      <th></th>\n",
       "      <th></th>\n",
       "      <th></th>\n",
       "      <th></th>\n",
       "    </tr>\n",
       "  </thead>\n",
       "  <tbody>\n",
       "    <tr>\n",
       "      <th>00091926</th>\n",
       "      <td>34</td>\n",
       "      <td>13.176471</td>\n",
       "      <td>14890.0</td>\n",
       "      <td>437.941176</td>\n",
       "      <td>0.0</td>\n",
       "      <td>372.0</td>\n",
       "      <td>34.0</td>\n",
       "      <td>0.0</td>\n",
       "      <td>0.0</td>\n",
       "      <td>0.0</td>\n",
       "      <td>...</td>\n",
       "      <td>0.0</td>\n",
       "      <td>0.0</td>\n",
       "      <td>0.0</td>\n",
       "      <td>0.0</td>\n",
       "      <td>0.0</td>\n",
       "      <td>0.0</td>\n",
       "      <td>0.0</td>\n",
       "      <td>0.0</td>\n",
       "      <td>0.0</td>\n",
       "      <td>0.0</td>\n",
       "    </tr>\n",
       "    <tr>\n",
       "      <th>00091a7a</th>\n",
       "      <td>1</td>\n",
       "      <td>10.000000</td>\n",
       "      <td>347.0</td>\n",
       "      <td>347.000000</td>\n",
       "      <td>0.0</td>\n",
       "      <td>3.0</td>\n",
       "      <td>1.0</td>\n",
       "      <td>0.0</td>\n",
       "      <td>0.0</td>\n",
       "      <td>0.0</td>\n",
       "      <td>...</td>\n",
       "      <td>0.0</td>\n",
       "      <td>0.0</td>\n",
       "      <td>0.0</td>\n",
       "      <td>0.0</td>\n",
       "      <td>0.0</td>\n",
       "      <td>0.0</td>\n",
       "      <td>0.0</td>\n",
       "      <td>0.0</td>\n",
       "      <td>0.0</td>\n",
       "      <td>0.0</td>\n",
       "    </tr>\n",
       "    <tr>\n",
       "      <th>000ba417</th>\n",
       "      <td>5</td>\n",
       "      <td>41.200000</td>\n",
       "      <td>12703.0</td>\n",
       "      <td>2540.600000</td>\n",
       "      <td>0.0</td>\n",
       "      <td>153.0</td>\n",
       "      <td>6.0</td>\n",
       "      <td>0.0</td>\n",
       "      <td>0.0</td>\n",
       "      <td>0.0</td>\n",
       "      <td>...</td>\n",
       "      <td>0.0</td>\n",
       "      <td>0.0</td>\n",
       "      <td>0.0</td>\n",
       "      <td>0.0</td>\n",
       "      <td>0.0</td>\n",
       "      <td>0.0</td>\n",
       "      <td>0.0</td>\n",
       "      <td>0.0</td>\n",
       "      <td>0.0</td>\n",
       "      <td>0.0</td>\n",
       "    </tr>\n",
       "    <tr>\n",
       "      <th>000e4d9e</th>\n",
       "      <td>13</td>\n",
       "      <td>31.615385</td>\n",
       "      <td>13159.0</td>\n",
       "      <td>1012.230769</td>\n",
       "      <td>0.0</td>\n",
       "      <td>339.0</td>\n",
       "      <td>13.0</td>\n",
       "      <td>0.0</td>\n",
       "      <td>0.0</td>\n",
       "      <td>0.0</td>\n",
       "      <td>...</td>\n",
       "      <td>0.0</td>\n",
       "      <td>0.0</td>\n",
       "      <td>0.0</td>\n",
       "      <td>0.0</td>\n",
       "      <td>0.0</td>\n",
       "      <td>0.0</td>\n",
       "      <td>0.0</td>\n",
       "      <td>0.0</td>\n",
       "      <td>0.0</td>\n",
       "      <td>0.0</td>\n",
       "    </tr>\n",
       "    <tr>\n",
       "      <th>000e619d</th>\n",
       "      <td>5</td>\n",
       "      <td>13.600000</td>\n",
       "      <td>1230.0</td>\n",
       "      <td>246.000000</td>\n",
       "      <td>0.0</td>\n",
       "      <td>28.0</td>\n",
       "      <td>5.0</td>\n",
       "      <td>0.0</td>\n",
       "      <td>0.0</td>\n",
       "      <td>0.0</td>\n",
       "      <td>...</td>\n",
       "      <td>0.0</td>\n",
       "      <td>0.0</td>\n",
       "      <td>0.0</td>\n",
       "      <td>0.0</td>\n",
       "      <td>0.0</td>\n",
       "      <td>0.0</td>\n",
       "      <td>0.0</td>\n",
       "      <td>0.0</td>\n",
       "      <td>0.0</td>\n",
       "      <td>0.0</td>\n",
       "    </tr>\n",
       "  </tbody>\n",
       "</table>\n",
       "<p>5 rows × 328 columns</p>\n",
       "</div>"
      ],
      "text/plain": [
       "          (session_id, count)  (event count, mean)  (time lapsed, sum)  \\\n",
       "person                                                                   \n",
       "00091926                   34            13.176471             14890.0   \n",
       "00091a7a                    1            10.000000               347.0   \n",
       "000ba417                    5            41.200000             12703.0   \n",
       "000e4d9e                   13            31.615385             13159.0   \n",
       "000e619d                    5            13.600000              1230.0   \n",
       "\n",
       "          (time lapsed, mean)  (staticpage, sum)  (viewed product, sum)  \\\n",
       "person                                                                    \n",
       "00091926           437.941176                0.0                  372.0   \n",
       "00091a7a           347.000000                0.0                    3.0   \n",
       "000ba417          2540.600000                0.0                  153.0   \n",
       "000e4d9e          1012.230769                0.0                  339.0   \n",
       "000e619d           246.000000                0.0                   28.0   \n",
       "\n",
       "          (visited site, sum)  Facebook_x  FacebookAds  FacebookSocial  ...   \\\n",
       "person                                                                  ...    \n",
       "00091926                 34.0         0.0          0.0             0.0  ...    \n",
       "00091a7a                  1.0         0.0          0.0             0.0  ...    \n",
       "000ba417                  6.0         0.0          0.0             0.0  ...    \n",
       "000e4d9e                 13.0         0.0          0.0             0.0  ...    \n",
       "000e619d                  5.0         0.0          0.0             0.0  ...    \n",
       "\n",
       "          Preto Matte  Preto Verde  Preto Vermelho  Rosa  Rose  Roxo  Titânio  \\\n",
       "person                                                                          \n",
       "00091926          0.0          0.0             0.0   0.0   0.0   0.0      0.0   \n",
       "00091a7a          0.0          0.0             0.0   0.0   0.0   0.0      0.0   \n",
       "000ba417          0.0          0.0             0.0   0.0   0.0   0.0      0.0   \n",
       "000e4d9e          0.0          0.0             0.0   0.0   0.0   0.0      0.0   \n",
       "000e619d          0.0          0.0             0.0   0.0   0.0   0.0      0.0   \n",
       "\n",
       "          Verde  Vermelho  Ônix  \n",
       "person                           \n",
       "00091926    0.0       0.0   0.0  \n",
       "00091a7a    0.0       0.0   0.0  \n",
       "000ba417    0.0       0.0   0.0  \n",
       "000e4d9e    0.0       0.0   0.0  \n",
       "000e619d    0.0       0.0   0.0  \n",
       "\n",
       "[5 rows x 328 columns]"
      ]
     },
     "execution_count": 109,
     "metadata": {},
     "output_type": "execute_result"
    }
   ],
   "source": [
    "dftest = pd.read_csv(\"data/trocafone_kaggle_test.csv\")\n",
    "dftest = dftest.set_index('person')\n",
    "\n",
    "# Hacemos un merge para agregar los datos anteriores a los usuarios del set de testeo\n",
    "dftest = byperson.merge(dftest, how='inner',left_index=True,right_index=True)\n",
    "\n",
    "print('Cantidad de personas:',dftest.shape[0])\n",
    "dftest.head()"
   ]
  },
  {
   "cell_type": "code",
   "execution_count": null,
   "metadata": {
    "collapsed": true
   },
   "outputs": [],
   "source": []
  },
  {
   "cell_type": "code",
   "execution_count": null,
   "metadata": {
    "collapsed": true
   },
   "outputs": [],
   "source": []
  },
  {
   "cell_type": "markdown",
   "metadata": {},
   "source": [
    "## 2. Random Forest"
   ]
  },
  {
   "cell_type": "code",
   "execution_count": 110,
   "metadata": {},
   "outputs": [
    {
     "name": "stdout",
     "output_type": "stream",
     "text": [
      "13892\n",
      "(19415, 329)\n"
     ]
    },
    {
     "data": {
      "text/plain": [
       "<matplotlib.axes._subplots.AxesSubplot at 0x1cf813cd588>"
      ]
     },
     "execution_count": 110,
     "metadata": {},
     "output_type": "execute_result"
    },
    {
     "data": {
      "image/png": "[encoded data removed]",
      "text/plain": [
       "<matplotlib.figure.Figure at 0x1cf813cdcf8>"
      ]
     },
     "metadata": {},
     "output_type": "display_data"
    }
   ],
   "source": [
    "predictions = classifier.predict(dftest)\n",
    "print(sum(predictions))\n",
    "dftest['y_pred'] = predictions\n",
    "print(dftest.shape)\n",
    "sns.countplot('y_pred',data=dftest)"
   ]
  },
  {
   "cell_type": "code",
   "execution_count": 111,
   "metadata": {
    "collapsed": true
   },
   "outputs": [],
   "source": [
    "dftest = dftest.rename(columns={'y_pred':'label'})\n",
    "dftest['label'].to_csv('submission20181023.csv', sep=',', header=True)"
   ]
  },
  {
   "cell_type": "code",
   "execution_count": null,
   "metadata": {
    "collapsed": true
   },
   "outputs": [],
   "source": []
  }
 ],
 "metadata": {
  "kernelspec": {
   "display_name": "Python 3",
   "language": "python",
   "name": "python3"
  },
  "language_info": {
   "codemirror_mode": {
    "name": "ipython",
    "version": 3
   },
   "file_extension": ".py",
   "mimetype": "text/x-python",
   "name": "python",
   "nbconvert_exporter": "python",
   "pygments_lexer": "ipython3",
   "version": "3.6.2"
  }
 },
 "nbformat": 4,
 "nbformat_minor": 2
}
